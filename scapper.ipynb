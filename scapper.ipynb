{
 "cells": [
  {
   "cell_type": "code",
   "execution_count": 1,
   "metadata": {},
   "outputs": [],
   "source": [
    "from selenium import webdriver\n",
    "import time\n",
    "from bs4 import BeautifulSoup\n",
    "import pprint as p\n",
    "import requests\n",
    "import re"
   ]
  },
  {
   "cell_type": "code",
   "execution_count": 166,
   "metadata": {},
   "outputs": [],
   "source": [
    "driver = webdriver.Chrome('chromedriver.exe')\n",
    "driver.get(\"https://www.amazon.in/s?k=dslr&rh=n%3A1388977031%2Cp_89%3ASony&dc&qid=1607010476&rnid=3837712031&ref=sr_nr_p_89_3\")"
   ]
  },
  {
   "cell_type": "code",
   "execution_count": 167,
   "metadata": {},
   "outputs": [],
   "source": [
    "li=[]"
   ]
  },
  {
   "cell_type": "code",
   "execution_count": 168,
   "metadata": {},
   "outputs": [],
   "source": [
    "SCROLL_PAUSE_TIME = 0.5\n",
    "\n",
    "# Get scroll height\n",
    "last_height = driver.execute_script(\"return document.body.scrollHeight\")\n",
    "\n",
    "while True:\n",
    "    # Scroll down to bottom\n",
    "    driver.execute_script(\"window.scrollTo(0, document.body.scrollHeight);\")\n",
    "\n",
    "    # Wait to load page\n",
    "    time.sleep(SCROLL_PAUSE_TIME)\n",
    "\n",
    "    # Calculate new scroll height and compare with last scroll height\n",
    "    new_height = driver.execute_script(\"return document.body.scrollHeight\")\n",
    "    if new_height == last_height:\n",
    "        break\n",
    "    last_height = new_height\n",
    "# time.sleep(5)\n",
    "text = driver.find_element_by_xpath('/html/body/div[1]/div[2]/div[1]/div[2]')\n",
    "text = text.get_attribute('innerHTML')\n",
    "from bs4 import BeautifulSoup\n",
    "import pprint as p\n",
    "soup = BeautifulSoup(text)\n",
    "for i in soup.find_all('div',class_='sg-col-inner'):\n",
    "    for k in i.find_all('a'):\n",
    "        li.append(k.get('href'))\n",
    "        break\n",
    "driver.close()"
   ]
  },
  {
   "cell_type": "code",
   "execution_count": 169,
   "metadata": {},
   "outputs": [
    {
     "data": {
      "text/plain": [
       "['https://aax-eu.amazon.in/x/c/QqAVWwHfhDhaVaDj4tAeSukAAAF2KUorZwMAAAH2Ade1pt8/https://www.amazon.in/stores/page/F3FF14FA-46FF-4FFE-8E6A-F08F80046B5F/?_encoding=UTF8&store_ref=SB_A06611732BCFUUZL0OX28&aaxitk=AXGGD7dnFYbVzUkJh5TrQA&hsa_cr_id=2613847580002&lp_asins=B0863TXGM3%2CB0863FR3S9%2CB07TS8K3GF&lp_mat_key=category%3D%2214146391031%22%20price%3E20000&lp_query=dslr&lp_slot=auto-sparkle-hsa-tetris&ref_=sbx_be_s_sparkle_mcd_bkgd&pd_rd_w=7dm36&pf_rd_p=784566c4-314b-467a-9e67-e8c44c027aa9&pd_rd_wg=5xlSc&pf_rd_r=RTMNTK2ZRV97R7VWJCG4&pd_rd_r=30fece26-6251-4576-8b0b-2b16df5dd23d',\n",
       " '/Sony-A6000L-24-3MP-Digital-16-50mm/dp/B00KT69ZNI/ref=sr_1_1?dchild=1&keywords=dslr&qid=1607010476&refinements=p_89%3ASony&rnid=3837712031&s=electronics&sr=1-1',\n",
       " '/Sony-A6000L-24-3MP-Digital-16-50mm/dp/B00KT69ZNI/ref=sr_1_1?dchild=1&keywords=dslr&qid=1607010476&refinements=p_89%3ASony&rnid=3837712031&s=electronics&sr=1-1',\n",
       " '/Sony-A6000L-24-3MP-Digital-16-50mm/dp/B00KT69ZNI/ref=sr_1_1?dchild=1&keywords=dslr&qid=1607010476&refinements=p_89%3ASony&rnid=3837712031&s=electronics&sr=1-1',\n",
       " '/Sony-A6000L-24-3MP-Digital-16-50mm/dp/B00KT69ZNI/ref=sr_1_1?dchild=1&keywords=dslr&qid=1607010476&refinements=p_89%3ASony&rnid=3837712031&s=electronics&sr=1-1',\n",
       " '/Sony-A6000L-24-3MP-Digital-16-50mm/dp/B00KT69ZNI/ref=sr_1_1?dchild=1&keywords=dslr&qid=1607010476&refinements=p_89%3ASony&rnid=3837712031&s=electronics&sr=1-1',\n",
       " '/Sony-ILCE-6400L-Mirrorless-Digital-16-50mm/dp/B088RWMSMC/ref=sr_1_2?dchild=1&keywords=dslr&qid=1607010476&refinements=p_89%3ASony&rnid=3837712031&s=electronics&sr=1-2',\n",
       " '/Sony-ILCE-6400L-Mirrorless-Digital-16-50mm/dp/B088RWMSMC/ref=sr_1_2?dchild=1&keywords=dslr&qid=1607010476&refinements=p_89%3ASony&rnid=3837712031&s=electronics&sr=1-2',\n",
       " '/Sony-ILCE-6400L-Mirrorless-Digital-16-50mm/dp/B088RWMSMC/ref=sr_1_2?dchild=1&keywords=dslr&qid=1607010476&refinements=p_89%3ASony&rnid=3837712031&s=electronics&sr=1-2',\n",
       " '/Sony-ILCE-6400L-Mirrorless-Digital-16-50mm/dp/B088RWMSMC/ref=sr_1_2?dchild=1&keywords=dslr&qid=1607010476&refinements=p_89%3ASony&rnid=3837712031&s=electronics&sr=1-2',\n",
       " '/Sony-ILCE-6400L-Mirrorless-Digital-16-50mm/dp/B088RWMSMC/ref=sr_1_2?dchild=1&keywords=dslr&qid=1607010476&refinements=p_89%3ASony&rnid=3837712031&s=electronics&sr=1-2',\n",
       " '/gcx/-/gfhz/events/?ref=waldo_cxbg_festive_gifts&categoryId=festive-gifts&pinnedAsins=B00MHPAFAG',\n",
       " '/Sony-ILCE5100L-24-3MP-Digital-16-50mm/dp/B00MHPAFAG/ref=sr_1_3?dchild=1&keywords=dslr&qid=1607010476&refinements=p_89%3ASony&rnid=3837712031&s=electronics&sr=1-3',\n",
       " '/Sony-ILCE5100L-24-3MP-Digital-16-50mm/dp/B00MHPAFAG/ref=sr_1_3?dchild=1&keywords=dslr&qid=1607010476&refinements=p_89%3ASony&rnid=3837712031&s=electronics&sr=1-3',\n",
       " '/Sony-ILCE5100L-24-3MP-Digital-16-50mm/dp/B00MHPAFAG/ref=sr_1_3?dchild=1&keywords=dslr&qid=1607010476&refinements=p_89%3ASony&rnid=3837712031&s=electronics&sr=1-3',\n",
       " '/Sony-ILCE5100L-24-3MP-Digital-16-50mm/dp/B00MHPAFAG/ref=sr_1_3?dchild=1&keywords=dslr&qid=1607010476&refinements=p_89%3ASony&rnid=3837712031&s=electronics&sr=1-3',\n",
       " '/Sony-42-4MP-Digital-Camera-ILCE-7RM2/dp/B013OZTUG2/ref=sr_1_4?dchild=1&keywords=dslr&qid=1607010476&refinements=p_89%3ASony&rnid=3837712031&s=electronics&sr=1-4',\n",
       " '/Sony-42-4MP-Digital-Camera-ILCE-7RM2/dp/B013OZTUG2/ref=sr_1_4?dchild=1&keywords=dslr&qid=1607010476&refinements=p_89%3ASony&rnid=3837712031&s=electronics&sr=1-4',\n",
       " '/Sony-42-4MP-Digital-Camera-ILCE-7RM2/dp/B013OZTUG2/ref=sr_1_4?dchild=1&keywords=dslr&qid=1607010476&refinements=p_89%3ASony&rnid=3837712031&s=electronics&sr=1-4',\n",
       " '/Sony-42-4MP-Digital-Camera-ILCE-7RM2/dp/B013OZTUG2/ref=sr_1_4?dchild=1&keywords=dslr&qid=1607010476&refinements=p_89%3ASony&rnid=3837712031&s=electronics&sr=1-4',\n",
       " '/Sony-42-4MP-Digital-Camera-ILCE-7RM2/dp/B013OZTUG2/ref=sr_1_4?dchild=1&keywords=dslr&qid=1607010476&refinements=p_89%3ASony&rnid=3837712031&s=electronics&sr=1-4',\n",
       " '/gcx/-/gfhz/events/?ref=waldo_cxbg_festive_gifts&categoryId=festive-gifts&pinnedAsins=B00XOXFB1I',\n",
       " '/Sony-A6000Y-Digital-16-50mm-55-210mm/dp/B00XOXFB1I/ref=sr_1_5?dchild=1&keywords=dslr&qid=1607010476&refinements=p_89%3ASony&rnid=3837712031&s=electronics&sr=1-5',\n",
       " '/Sony-A6000Y-Digital-16-50mm-55-210mm/dp/B00XOXFB1I/ref=sr_1_5?dchild=1&keywords=dslr&qid=1607010476&refinements=p_89%3ASony&rnid=3837712031&s=electronics&sr=1-5',\n",
       " '/Sony-A6000Y-Digital-16-50mm-55-210mm/dp/B00XOXFB1I/ref=sr_1_5?dchild=1&keywords=dslr&qid=1607010476&refinements=p_89%3ASony&rnid=3837712031&s=electronics&sr=1-5',\n",
       " '/Sony-ILCE5100L-Digital-16-50mm-SanDisk/dp/B088RWJMHD/ref=sr_1_6?dchild=1&keywords=dslr&qid=1607010476&refinements=p_89%3ASony&rnid=3837712031&s=electronics&sr=1-6',\n",
       " '/Sony-ILCE5100L-Digital-16-50mm-SanDisk/dp/B088RWJMHD/ref=sr_1_6?dchild=1&keywords=dslr&qid=1607010476&refinements=p_89%3ASony&rnid=3837712031&s=electronics&sr=1-6',\n",
       " '/Sony-ILCE5100L-Digital-16-50mm-SanDisk/dp/B088RWJMHD/ref=sr_1_6?dchild=1&keywords=dslr&qid=1607010476&refinements=p_89%3ASony&rnid=3837712031&s=electronics&sr=1-6',\n",
       " '/Sony-ILCE5100L-Digital-16-50mm-SanDisk/dp/B088RWJMHD/ref=sr_1_6?dchild=1&keywords=dslr&qid=1607010476&refinements=p_89%3ASony&rnid=3837712031&s=electronics&sr=1-6',\n",
       " '/Sony-ILCE5100L-Digital-16-50mm-SanDisk/dp/B088RWJMHD/ref=sr_1_6?dchild=1&keywords=dslr&qid=1607010476&refinements=p_89%3ASony&rnid=3837712031&s=electronics&sr=1-6',\n",
       " '/Sony-Alpha-Mirrorless-MDR-XB550AP-Headphones/dp/B08J13N193/ref=sr_1_7?dchild=1&keywords=dslr&qid=1607010476&refinements=p_89%3ASony&rnid=3837712031&s=electronics&sr=1-7',\n",
       " '/Sony-Alpha-Mirrorless-MDR-XB550AP-Headphones/dp/B08J13N193/ref=sr_1_7?dchild=1&keywords=dslr&qid=1607010476&refinements=p_89%3ASony&rnid=3837712031&s=electronics&sr=1-7',\n",
       " '/Sony-Alpha-Mirrorless-MDR-XB550AP-Headphones/dp/B08J13N193/ref=sr_1_7?dchild=1&keywords=dslr&qid=1607010476&refinements=p_89%3ASony&rnid=3837712031&s=electronics&sr=1-7',\n",
       " '/Sony-Alpha-Mirrorless-MDR-XB550AP-Headphones/dp/B08J13N193/ref=sr_1_7?dchild=1&keywords=dslr&qid=1607010476&refinements=p_89%3ASony&rnid=3837712031&s=electronics&sr=1-7',\n",
       " '/Sony-Alpha-Mirrorless-MDR-XB550AP-Headphones/dp/B08J13N193/ref=sr_1_7?dchild=1&keywords=dslr&qid=1607010476&refinements=p_89%3ASony&rnid=3837712031&s=electronics&sr=1-7',\n",
       " '/Sony-Alpha-ILCE-6500-Digital-Camera/dp/B01N1RG1FS/ref=sr_1_8?dchild=1&keywords=dslr&qid=1607010476&refinements=p_89%3ASony&rnid=3837712031&s=electronics&sr=1-8',\n",
       " '/Sony-Alpha-ILCE-6500-Digital-Camera/dp/B01N1RG1FS/ref=sr_1_8?dchild=1&keywords=dslr&qid=1607010476&refinements=p_89%3ASony&rnid=3837712031&s=electronics&sr=1-8',\n",
       " '/Sony-Alpha-ILCE-6500-Digital-Camera/dp/B01N1RG1FS/ref=sr_1_8?dchild=1&keywords=dslr&qid=1607010476&refinements=p_89%3ASony&rnid=3837712031&s=electronics&sr=1-8',\n",
       " '/Sony-Alpha-ILCE-6500-Digital-Camera/dp/B01N1RG1FS/ref=sr_1_8?dchild=1&keywords=dslr&qid=1607010476&refinements=p_89%3ASony&rnid=3837712031&s=electronics&sr=1-8',\n",
       " '/Sony-Alpha-ILCE-6500-Digital-Camera/dp/B01N1RG1FS/ref=sr_1_8?dchild=1&keywords=dslr&qid=1607010476&refinements=p_89%3ASony&rnid=3837712031&s=electronics&sr=1-8',\n",
       " '/Sony-ILCE-6100Y-Mirrorless-Real-time-Tracking/dp/B081JRLB4P/ref=sr_1_9?dchild=1&keywords=dslr&qid=1607010476&refinements=p_89%3ASony&rnid=3837712031&s=electronics&sr=1-9',\n",
       " '/Sony-ILCE-6100Y-Mirrorless-Real-time-Tracking/dp/B081JRLB4P/ref=sr_1_9?dchild=1&keywords=dslr&qid=1607010476&refinements=p_89%3ASony&rnid=3837712031&s=electronics&sr=1-9',\n",
       " '/Sony-ILCE-6100Y-Mirrorless-Real-time-Tracking/dp/B081JRLB4P/ref=sr_1_9?dchild=1&keywords=dslr&qid=1607010476&refinements=p_89%3ASony&rnid=3837712031&s=electronics&sr=1-9',\n",
       " '/Sony-ILCE-6100Y-Mirrorless-Real-time-Tracking/dp/B081JRLB4P/ref=sr_1_9?dchild=1&keywords=dslr&qid=1607010476&refinements=p_89%3ASony&rnid=3837712031&s=electronics&sr=1-9',\n",
       " '/Sony-ILCE-6100Y-Mirrorless-Real-time-Tracking/dp/B081JRLB4P/ref=sr_1_9?dchild=1&keywords=dslr&qid=1607010476&refinements=p_89%3ASony&rnid=3837712031&s=electronics&sr=1-9',\n",
       " '/Sony-ILCE-6400M-Mirrorless-Digital-18-135mm/dp/B088RVKYWH/ref=sr_1_10?dchild=1&keywords=dslr&qid=1607010476&refinements=p_89%3ASony&rnid=3837712031&s=electronics&sr=1-10',\n",
       " '/Sony-ILCE-6400M-Mirrorless-Digital-18-135mm/dp/B088RVKYWH/ref=sr_1_10?dchild=1&keywords=dslr&qid=1607010476&refinements=p_89%3ASony&rnid=3837712031&s=electronics&sr=1-10',\n",
       " '/Sony-ILCE-6400M-Mirrorless-Digital-18-135mm/dp/B088RVKYWH/ref=sr_1_10?dchild=1&keywords=dslr&qid=1607010476&refinements=p_89%3ASony&rnid=3837712031&s=electronics&sr=1-10',\n",
       " '/Sony-ILCE-6400M-Mirrorless-Digital-18-135mm/dp/B088RVKYWH/ref=sr_1_10?dchild=1&keywords=dslr&qid=1607010476&refinements=p_89%3ASony&rnid=3837712031&s=electronics&sr=1-10',\n",
       " '/Sony-ILCE-6400M-Mirrorless-Digital-18-135mm/dp/B088RVKYWH/ref=sr_1_10?dchild=1&keywords=dslr&qid=1607010476&refinements=p_89%3ASony&rnid=3837712031&s=electronics&sr=1-10',\n",
       " '/Sony-ILCE5100L-Digital-16-50mm-Digitek/dp/B07XJN8P9F/ref=sr_1_11?dchild=1&keywords=dslr&qid=1607010476&refinements=p_89%3ASony&rnid=3837712031&s=electronics&sr=1-11',\n",
       " '/Sony-ILCE5100L-Digital-16-50mm-Digitek/dp/B07XJN8P9F/ref=sr_1_11?dchild=1&keywords=dslr&qid=1607010476&refinements=p_89%3ASony&rnid=3837712031&s=electronics&sr=1-11',\n",
       " '/Sony-ILCE5100L-Digital-16-50mm-Digitek/dp/B07XJN8P9F/ref=sr_1_11?dchild=1&keywords=dslr&qid=1607010476&refinements=p_89%3ASony&rnid=3837712031&s=electronics&sr=1-11',\n",
       " '/Sony-ILCE5100L-Digital-16-50mm-Digitek/dp/B07XJN8P9F/ref=sr_1_11?dchild=1&keywords=dslr&qid=1607010476&refinements=p_89%3ASony&rnid=3837712031&s=electronics&sr=1-11',\n",
       " '/Sony-ILCE5100L-Digital-16-50mm-Digitek/dp/B07XJN8P9F/ref=sr_1_11?dchild=1&keywords=dslr&qid=1607010476&refinements=p_89%3ASony&rnid=3837712031&s=electronics&sr=1-11',\n",
       " '/Sony-Mirrorless-Digital-Camera-Sensor/dp/B088RW74WS/ref=sr_1_12?dchild=1&keywords=dslr&qid=1607010476&refinements=p_89%3ASony&rnid=3837712031&s=electronics&sr=1-12',\n",
       " '/Sony-Mirrorless-Digital-Camera-Sensor/dp/B088RW74WS/ref=sr_1_12?dchild=1&keywords=dslr&qid=1607010476&refinements=p_89%3ASony&rnid=3837712031&s=electronics&sr=1-12',\n",
       " '/Sony-Mirrorless-Digital-Camera-Sensor/dp/B088RW74WS/ref=sr_1_12?dchild=1&keywords=dslr&qid=1607010476&refinements=p_89%3ASony&rnid=3837712031&s=electronics&sr=1-12',\n",
       " '/Sony-Mirrorless-Digital-Camera-Sensor/dp/B088RW74WS/ref=sr_1_12?dchild=1&keywords=dslr&qid=1607010476&refinements=p_89%3ASony&rnid=3837712031&s=electronics&sr=1-12',\n",
       " '/Sony-Mirrorless-Digital-Camera-Sensor/dp/B088RW74WS/ref=sr_1_12?dchild=1&keywords=dslr&qid=1607010476&refinements=p_89%3ASony&rnid=3837712031&s=electronics&sr=1-12',\n",
       " '/gp/bestsellers/electronics/1389181031/ref=sr_bs_12_1389181031_1',\n",
       " '/Sony-Cyber-shot-Camera-Optical-Memory/dp/B00IHS3RGQ/ref=sr_1_13?dchild=1&keywords=dslr&qid=1607010476&refinements=p_89%3ASony&rnid=3837712031&s=electronics&sr=1-13',\n",
       " '/Sony-Cyber-shot-Camera-Optical-Memory/dp/B00IHS3RGQ/ref=sr_1_13?dchild=1&keywords=dslr&qid=1607010476&refinements=p_89%3ASony&rnid=3837712031&s=electronics&sr=1-13',\n",
       " '/Sony-Cyber-shot-Camera-Optical-Memory/dp/B00IHS3RGQ/ref=sr_1_13?dchild=1&keywords=dslr&qid=1607010476&refinements=p_89%3ASony&rnid=3837712031&s=electronics&sr=1-13',\n",
       " '/Sony-Cyber-shot-Camera-Optical-Memory/dp/B00IHS3RGQ/ref=sr_1_13?dchild=1&keywords=dslr&qid=1607010476&refinements=p_89%3ASony&rnid=3837712031&s=electronics&sr=1-13',\n",
       " '/Sony-ZV-1-Microphone-Vlogging-Creation/dp/B08JVPJXMT/ref=sr_1_14?dchild=1&keywords=dslr&qid=1607010476&refinements=p_89%3ASony&rnid=3837712031&s=electronics&sr=1-14',\n",
       " '/Sony-ZV-1-Microphone-Vlogging-Creation/dp/B08JVPJXMT/ref=sr_1_14?dchild=1&keywords=dslr&qid=1607010476&refinements=p_89%3ASony&rnid=3837712031&s=electronics&sr=1-14',\n",
       " '/Sony-ZV-1-Microphone-Vlogging-Creation/dp/B08JVPJXMT/ref=sr_1_14?dchild=1&keywords=dslr&qid=1607010476&refinements=p_89%3ASony&rnid=3837712031&s=electronics&sr=1-14',\n",
       " '/Sony-ZV-1-Microphone-Vlogging-Creation/dp/B08JVPJXMT/ref=sr_1_14?dchild=1&keywords=dslr&qid=1607010476&refinements=p_89%3ASony&rnid=3837712031&s=electronics&sr=1-14',\n",
       " '/Sony-ZV-1-Microphone-Vlogging-Creation/dp/B08JVPJXMT/ref=sr_1_14?dchild=1&keywords=dslr&qid=1607010476&refinements=p_89%3ASony&rnid=3837712031&s=electronics&sr=1-14',\n",
       " '/Sony-Cyber-Shot-Camera-Optical-SanDisk/dp/B088RXK7VX/ref=sr_1_15?dchild=1&keywords=dslr&qid=1607010476&refinements=p_89%3ASony&rnid=3837712031&s=electronics&sr=1-15',\n",
       " '/Sony-Cyber-Shot-Camera-Optical-SanDisk/dp/B088RXK7VX/ref=sr_1_15?dchild=1&keywords=dslr&qid=1607010476&refinements=p_89%3ASony&rnid=3837712031&s=electronics&sr=1-15',\n",
       " '/Sony-Cyber-Shot-Camera-Optical-SanDisk/dp/B088RXK7VX/ref=sr_1_15?dchild=1&keywords=dslr&qid=1607010476&refinements=p_89%3ASony&rnid=3837712031&s=electronics&sr=1-15',\n",
       " '/Sony-Cyber-Shot-Camera-Optical-SanDisk/dp/B088RXK7VX/ref=sr_1_15?dchild=1&keywords=dslr&qid=1607010476&refinements=p_89%3ASony&rnid=3837712031&s=electronics&sr=1-15',\n",
       " '/Sony-Cyber-Shot-Camera-Optical-SanDisk/dp/B088RXK7VX/ref=sr_1_15?dchild=1&keywords=dslr&qid=1607010476&refinements=p_89%3ASony&rnid=3837712031&s=electronics&sr=1-15',\n",
       " '/Sony-ECMCG60-SYH-ECM-CG60-Shotgun-Mic/dp/B00XIPLH8S/ref=sr_1_16?dchild=1&keywords=dslr&qid=1607010476&refinements=p_89%3ASony&rnid=3837712031&s=electronics&sr=1-16',\n",
       " '/Sony-ECMCG60-SYH-ECM-CG60-Shotgun-Mic/dp/B00XIPLH8S/ref=sr_1_16?dchild=1&keywords=dslr&qid=1607010476&refinements=p_89%3ASony&rnid=3837712031&s=electronics&sr=1-16',\n",
       " '/Sony-ECMCG60-SYH-ECM-CG60-Shotgun-Mic/dp/B00XIPLH8S/ref=sr_1_16?dchild=1&keywords=dslr&qid=1607010476&refinements=p_89%3ASony&rnid=3837712031&s=electronics&sr=1-16',\n",
       " '/Sony-ECMCG60-SYH-ECM-CG60-Shotgun-Mic/dp/B00XIPLH8S/ref=sr_1_16?dchild=1&keywords=dslr&qid=1607010476&refinements=p_89%3ASony&rnid=3837712031&s=electronics&sr=1-16',\n",
       " '/Sony-ECMCG60-SYH-ECM-CG60-Shotgun-Mic/dp/B00XIPLH8S/ref=sr_1_16?dchild=1&keywords=dslr&qid=1607010476&refinements=p_89%3ASony&rnid=3837712031&s=electronics&sr=1-16',\n",
       " '/Sony-MII-SC5-Soft-Carrying-Black/dp/B01CP0JM0G/ref=sr_1_17?dchild=1&keywords=dslr&qid=1607010476&refinements=p_89%3ASony&rnid=3837712031&s=electronics&sr=1-17',\n",
       " '/Sony-MII-SC5-Soft-Carrying-Black/dp/B01CP0JM0G/ref=sr_1_17?dchild=1&keywords=dslr&qid=1607010476&refinements=p_89%3ASony&rnid=3837712031&s=electronics&sr=1-17',\n",
       " '/Sony-MII-SC5-Soft-Carrying-Black/dp/B01CP0JM0G/ref=sr_1_17?dchild=1&keywords=dslr&qid=1607010476&refinements=p_89%3ASony&rnid=3837712031&s=electronics&sr=1-17',\n",
       " '/Sony-MII-SC5-Soft-Carrying-Black/dp/B01CP0JM0G/ref=sr_1_17?dchild=1&keywords=dslr&qid=1607010476&refinements=p_89%3ASony&rnid=3837712031&s=electronics&sr=1-17',\n",
       " '/Sony-MII-SC5-Soft-Carrying-Black/dp/B01CP0JM0G/ref=sr_1_17?dchild=1&keywords=dslr&qid=1607010476&refinements=p_89%3ASony&rnid=3837712031&s=electronics&sr=1-17',\n",
       " '/Sony-Alpha-Circular-Filter-Diameter/dp/B000VXT1Z6/ref=sr_1_18?dchild=1&keywords=dslr&qid=1607010476&refinements=p_89%3ASony&rnid=3837712031&s=electronics&sr=1-18',\n",
       " '/Sony-Alpha-Circular-Filter-Diameter/dp/B000VXT1Z6/ref=sr_1_18?dchild=1&keywords=dslr&qid=1607010476&refinements=p_89%3ASony&rnid=3837712031&s=electronics&sr=1-18',\n",
       " '/Sony-Alpha-Circular-Filter-Diameter/dp/B000VXT1Z6/ref=sr_1_18?dchild=1&keywords=dslr&qid=1607010476&refinements=p_89%3ASony&rnid=3837712031&s=electronics&sr=1-18',\n",
       " '/Sony-Alpha-Circular-Filter-Diameter/dp/B000VXT1Z6/ref=sr_1_18?dchild=1&keywords=dslr&qid=1607010476&refinements=p_89%3ASony&rnid=3837712031&s=electronics&sr=1-18',\n",
       " '/Sony-LCSSC8-Lightweight-System-Camera/dp/B005J3X1QI/ref=sr_1_19?dchild=1&keywords=dslr&qid=1607010476&refinements=p_89%3ASony&rnid=3837712031&s=electronics&sr=1-19',\n",
       " '/Sony-LCSSC8-Lightweight-System-Camera/dp/B005J3X1QI/ref=sr_1_19?dchild=1&keywords=dslr&qid=1607010476&refinements=p_89%3ASony&rnid=3837712031&s=electronics&sr=1-19',\n",
       " '/Sony-LCSSC8-Lightweight-System-Camera/dp/B005J3X1QI/ref=sr_1_19?dchild=1&keywords=dslr&qid=1607010476&refinements=p_89%3ASony&rnid=3837712031&s=electronics&sr=1-19',\n",
       " '/Sony-LCSSC8-Lightweight-System-Camera/dp/B005J3X1QI/ref=sr_1_19?dchild=1&keywords=dslr&qid=1607010476&refinements=p_89%3ASony&rnid=3837712031&s=electronics&sr=1-19',\n",
       " '/Sony-ILCE-6600-Mirrorless-Digital-SanDisk/dp/B088RVWVLW/ref=sr_1_20?dchild=1&keywords=dslr&qid=1607010476&refinements=p_89%3ASony&rnid=3837712031&s=electronics&sr=1-20',\n",
       " '/Sony-ILCE-6600-Mirrorless-Digital-SanDisk/dp/B088RVWVLW/ref=sr_1_20?dchild=1&keywords=dslr&qid=1607010476&refinements=p_89%3ASony&rnid=3837712031&s=electronics&sr=1-20',\n",
       " '/Sony-ILCE-6600-Mirrorless-Digital-SanDisk/dp/B088RVWVLW/ref=sr_1_20?dchild=1&keywords=dslr&qid=1607010476&refinements=p_89%3ASony&rnid=3837712031&s=electronics&sr=1-20',\n",
       " '/Sony-ILCE-6600-Mirrorless-Digital-SanDisk/dp/B088RVWVLW/ref=sr_1_20?dchild=1&keywords=dslr&qid=1607010476&refinements=p_89%3ASony&rnid=3837712031&s=electronics&sr=1-20',\n",
       " '/Sony-ILCE-6600-Mirrorless-Digital-SanDisk/dp/B088RVWVLW/ref=sr_1_20?dchild=1&keywords=dslr&qid=1607010476&refinements=p_89%3ASony&rnid=3837712031&s=electronics&sr=1-20',\n",
       " '/Sony-FAMC1AM-Multi-Digital-Camera/dp/B000JC5KC2/ref=sr_1_21?dchild=1&keywords=dslr&qid=1607010476&refinements=p_89%3ASony&rnid=3837712031&s=electronics&sr=1-21',\n",
       " '/Sony-FAMC1AM-Multi-Digital-Camera/dp/B000JC5KC2/ref=sr_1_21?dchild=1&keywords=dslr&qid=1607010476&refinements=p_89%3ASony&rnid=3837712031&s=electronics&sr=1-21',\n",
       " '/Sony-FAMC1AM-Multi-Digital-Camera/dp/B000JC5KC2/ref=sr_1_21?dchild=1&keywords=dslr&qid=1607010476&refinements=p_89%3ASony&rnid=3837712031&s=electronics&sr=1-21',\n",
       " '/Sony-FAMC1AM-Multi-Digital-Camera/dp/B000JC5KC2/ref=sr_1_21?dchild=1&keywords=dslr&qid=1607010476&refinements=p_89%3ASony&rnid=3837712031&s=electronics&sr=1-21',\n",
       " '/Sony-Mirrorless-Digital-SanDisk-Extreme/dp/B088RVVYFQ/ref=sr_1_22?dchild=1&keywords=dslr&qid=1607010476&refinements=p_89%3ASony&rnid=3837712031&s=electronics&sr=1-22',\n",
       " '/Sony-Mirrorless-Digital-SanDisk-Extreme/dp/B088RVVYFQ/ref=sr_1_22?dchild=1&keywords=dslr&qid=1607010476&refinements=p_89%3ASony&rnid=3837712031&s=electronics&sr=1-22',\n",
       " '/Sony-Mirrorless-Digital-SanDisk-Extreme/dp/B088RVVYFQ/ref=sr_1_22?dchild=1&keywords=dslr&qid=1607010476&refinements=p_89%3ASony&rnid=3837712031&s=electronics&sr=1-22',\n",
       " '/Sony-Mirrorless-Digital-SanDisk-Extreme/dp/B088RVVYFQ/ref=sr_1_22?dchild=1&keywords=dslr&qid=1607010476&refinements=p_89%3ASony&rnid=3837712031&s=electronics&sr=1-22',\n",
       " '/Sony-Mirrorless-Digital-SanDisk-Extreme/dp/B088RVVYFQ/ref=sr_1_22?dchild=1&keywords=dslr&qid=1607010476&refinements=p_89%3ASony&rnid=3837712031&s=electronics&sr=1-22',\n",
       " '/Sony-LCSSC21-Lightweight-System-Camera/dp/B005K8AUGG/ref=sr_1_23?dchild=1&keywords=dslr&qid=1607010476&refinements=p_89%3ASony&rnid=3837712031&s=electronics&sr=1-23',\n",
       " '/Sony-LCSSC21-Lightweight-System-Camera/dp/B005K8AUGG/ref=sr_1_23?dchild=1&keywords=dslr&qid=1607010476&refinements=p_89%3ASony&rnid=3837712031&s=electronics&sr=1-23',\n",
       " '/Sony-LCSSC21-Lightweight-System-Camera/dp/B005K8AUGG/ref=sr_1_23?dchild=1&keywords=dslr&qid=1607010476&refinements=p_89%3ASony&rnid=3837712031&s=electronics&sr=1-23',\n",
       " '/Sony-LCSSC21-Lightweight-System-Camera/dp/B005K8AUGG/ref=sr_1_23?dchild=1&keywords=dslr&qid=1607010476&refinements=p_89%3ASony&rnid=3837712031&s=electronics&sr=1-23',\n",
       " '/Sony-Alpha-Digital-Camera-ILCA-68/dp/B01DETNBZE/ref=sr_1_24?dchild=1&keywords=dslr&qid=1607010476&refinements=p_89%3ASony&rnid=3837712031&s=electronics&sr=1-24',\n",
       " '/Sony-Alpha-Digital-Camera-ILCA-68/dp/B01DETNBZE/ref=sr_1_24?dchild=1&keywords=dslr&qid=1607010476&refinements=p_89%3ASony&rnid=3837712031&s=electronics&sr=1-24',\n",
       " '/Sony-Alpha-Digital-Camera-ILCA-68/dp/B01DETNBZE/ref=sr_1_24?dchild=1&keywords=dslr&qid=1607010476&refinements=p_89%3ASony&rnid=3837712031&s=electronics&sr=1-24',\n",
       " '/Sony-Alpha-Digital-Camera-ILCA-68/dp/B01DETNBZE/ref=sr_1_24?dchild=1&keywords=dslr&qid=1607010476&refinements=p_89%3ASony&rnid=3837712031&s=electronics&sr=1-24',\n",
       " '/s/?k=camera&ref=sugsr_0&pd_rd_w=TDYMl&pf_rd_p=e98d1fad-4664-4b4d-a930-8932601ebadf&pf_rd_r=RTMNTK2ZRV97R7VWJCG4&pd_rd_r=62fc267d-eebb-40e4-a878-de65925a365c&pd_rd_wg=nw3M3&qid=1607010495',\n",
       " '/s/?k=camera&ref=sugsr_0&pd_rd_w=TDYMl&pf_rd_p=e98d1fad-4664-4b4d-a930-8932601ebadf&pf_rd_r=RTMNTK2ZRV97R7VWJCG4&pd_rd_r=62fc267d-eebb-40e4-a878-de65925a365c&pd_rd_wg=nw3M3&qid=1607010495',\n",
       " '/s/?k=camera&ref=sugsr_0&pd_rd_w=TDYMl&pf_rd_p=e98d1fad-4664-4b4d-a930-8932601ebadf&pf_rd_r=RTMNTK2ZRV97R7VWJCG4&pd_rd_r=62fc267d-eebb-40e4-a878-de65925a365c&pd_rd_wg=nw3M3&qid=1607010495',\n",
       " '/s/?k=dslr+lens&ref=sugsr_1&pd_rd_w=TDYMl&pf_rd_p=e98d1fad-4664-4b4d-a930-8932601ebadf&pf_rd_r=RTMNTK2ZRV97R7VWJCG4&pd_rd_r=62fc267d-eebb-40e4-a878-de65925a365c&pd_rd_wg=nw3M3&qid=1607010495',\n",
       " '/s/?k=sony+dslr&ref=sugsr_2&pd_rd_w=TDYMl&pf_rd_p=e98d1fad-4664-4b4d-a930-8932601ebadf&pf_rd_r=RTMNTK2ZRV97R7VWJCG4&pd_rd_r=62fc267d-eebb-40e4-a878-de65925a365c&pd_rd_wg=nw3M3&qid=1607010495',\n",
       " '/s/?k=canon+200d&ref=sugsr_3&pd_rd_w=TDYMl&pf_rd_p=e98d1fad-4664-4b4d-a930-8932601ebadf&pf_rd_r=RTMNTK2ZRV97R7VWJCG4&pd_rd_r=62fc267d-eebb-40e4-a878-de65925a365c&pd_rd_wg=nw3M3&qid=1607010495',\n",
       " '/gp/help/customer/display.html?nodeId=200533820']"
      ]
     },
     "execution_count": 169,
     "metadata": {},
     "output_type": "execute_result"
    }
   ],
   "source": [
    "li\n"
   ]
  },
  {
   "cell_type": "code",
   "execution_count": 170,
   "metadata": {},
   "outputs": [],
   "source": [
    "final = []\n",
    "for i in li:\n",
    "    if i.split('-')[0]==\"/Sony\":\n",
    "        a = 'http://www.amazon.in'+i+'?'\n",
    "        final.append(a)"
   ]
  },
  {
   "cell_type": "code",
   "execution_count": 171,
   "metadata": {},
   "outputs": [],
   "source": [
    "final = list(set(final))"
   ]
  },
  {
   "cell_type": "code",
   "execution_count": 172,
   "metadata": {},
   "outputs": [
    {
     "data": {
      "text/plain": [
       "24"
      ]
     },
     "execution_count": 172,
     "metadata": {},
     "output_type": "execute_result"
    }
   ],
   "source": [
    "len(final)"
   ]
  },
  {
   "cell_type": "code",
   "execution_count": 173,
   "metadata": {},
   "outputs": [],
   "source": [
    "d = {'title':[],'price':[],'desc':[],'details':[],'review':[],'pic':[]}\n"
   ]
  },
  {
   "cell_type": "code",
   "execution_count": 272,
   "metadata": {},
   "outputs": [
    {
     "name": "stdout",
     "output_type": "stream",
     "text": [
      "15\n"
     ]
    },
    {
     "ename": "NoSuchElementException",
     "evalue": "Message: no such element: Unable to locate element: {\"method\":\"xpath\",\"selector\":\"/html/body/div[2]/div[2]/div[4]/div[25]/div/div/div/div[1]/div[1]/div/div[2]/div/div/table/tbody\"}\n  (Session info: chrome=87.0.4280.66)\n",
     "output_type": "error",
     "traceback": [
      "\u001b[1;31m---------------------------------------------------------------------------\u001b[0m",
      "\u001b[1;31mNoSuchElementException\u001b[0m                    Traceback (most recent call last)",
      "\u001b[1;32m<ipython-input-272-220bf98ba7f3>\u001b[0m in \u001b[0;36m<module>\u001b[1;34m\u001b[0m\n\u001b[0;32m     47\u001b[0m     \u001b[0md\u001b[0m\u001b[1;33m[\u001b[0m\u001b[1;34m'desc'\u001b[0m\u001b[1;33m]\u001b[0m\u001b[1;33m.\u001b[0m\u001b[0mappend\u001b[0m\u001b[1;33m(\u001b[0m\u001b[0mdescription\u001b[0m\u001b[1;33m)\u001b[0m\u001b[1;33m\u001b[0m\u001b[1;33m\u001b[0m\u001b[0m\n\u001b[0;32m     48\u001b[0m \u001b[1;31m#     details = driver.find_element_by_xpath('/html/body/div[2]/div[2]/div[4]/div[19]/div/div/div/div[1]/ul')\u001b[0m\u001b[1;33m\u001b[0m\u001b[1;33m\u001b[0m\u001b[1;33m\u001b[0m\u001b[0m\n\u001b[1;32m---> 49\u001b[1;33m     \u001b[0mdetails\u001b[0m \u001b[1;33m=\u001b[0m \u001b[0mdriver\u001b[0m\u001b[1;33m.\u001b[0m\u001b[0mfind_element_by_xpath\u001b[0m\u001b[1;33m(\u001b[0m\u001b[1;34m'/html/body/div[2]/div[2]/div[4]/div[25]/div/div/div/div[1]/div[1]/div/div[2]/div/div/table/tbody'\u001b[0m\u001b[1;33m)\u001b[0m\u001b[1;33m\u001b[0m\u001b[1;33m\u001b[0m\u001b[0m\n\u001b[0m\u001b[0;32m     50\u001b[0m     \u001b[0mdetails\u001b[0m \u001b[1;33m=\u001b[0m \u001b[0mdetails\u001b[0m\u001b[1;33m.\u001b[0m\u001b[0mget_attribute\u001b[0m\u001b[1;33m(\u001b[0m\u001b[1;34m'innerHTML'\u001b[0m\u001b[1;33m)\u001b[0m\u001b[1;33m\u001b[0m\u001b[1;33m\u001b[0m\u001b[0m\n\u001b[0;32m     51\u001b[0m     \u001b[0msoup\u001b[0m \u001b[1;33m=\u001b[0m \u001b[0mBeautifulSoup\u001b[0m\u001b[1;33m(\u001b[0m\u001b[0mdetails\u001b[0m\u001b[1;33m)\u001b[0m\u001b[1;33m\u001b[0m\u001b[1;33m\u001b[0m\u001b[0m\n",
      "\u001b[1;32m~\\Anaconda3\\lib\\site-packages\\selenium\\webdriver\\remote\\webdriver.py\u001b[0m in \u001b[0;36mfind_element_by_xpath\u001b[1;34m(self, xpath)\u001b[0m\n\u001b[0;32m    392\u001b[0m             \u001b[0melement\u001b[0m \u001b[1;33m=\u001b[0m \u001b[0mdriver\u001b[0m\u001b[1;33m.\u001b[0m\u001b[0mfind_element_by_xpath\u001b[0m\u001b[1;33m(\u001b[0m\u001b[1;34m'//div/td[1]'\u001b[0m\u001b[1;33m)\u001b[0m\u001b[1;33m\u001b[0m\u001b[1;33m\u001b[0m\u001b[0m\n\u001b[0;32m    393\u001b[0m         \"\"\"\n\u001b[1;32m--> 394\u001b[1;33m         \u001b[1;32mreturn\u001b[0m \u001b[0mself\u001b[0m\u001b[1;33m.\u001b[0m\u001b[0mfind_element\u001b[0m\u001b[1;33m(\u001b[0m\u001b[0mby\u001b[0m\u001b[1;33m=\u001b[0m\u001b[0mBy\u001b[0m\u001b[1;33m.\u001b[0m\u001b[0mXPATH\u001b[0m\u001b[1;33m,\u001b[0m \u001b[0mvalue\u001b[0m\u001b[1;33m=\u001b[0m\u001b[0mxpath\u001b[0m\u001b[1;33m)\u001b[0m\u001b[1;33m\u001b[0m\u001b[1;33m\u001b[0m\u001b[0m\n\u001b[0m\u001b[0;32m    395\u001b[0m \u001b[1;33m\u001b[0m\u001b[0m\n\u001b[0;32m    396\u001b[0m     \u001b[1;32mdef\u001b[0m \u001b[0mfind_elements_by_xpath\u001b[0m\u001b[1;33m(\u001b[0m\u001b[0mself\u001b[0m\u001b[1;33m,\u001b[0m \u001b[0mxpath\u001b[0m\u001b[1;33m)\u001b[0m\u001b[1;33m:\u001b[0m\u001b[1;33m\u001b[0m\u001b[1;33m\u001b[0m\u001b[0m\n",
      "\u001b[1;32m~\\Anaconda3\\lib\\site-packages\\selenium\\webdriver\\remote\\webdriver.py\u001b[0m in \u001b[0;36mfind_element\u001b[1;34m(self, by, value)\u001b[0m\n\u001b[0;32m    976\u001b[0m         return self.execute(Command.FIND_ELEMENT, {\n\u001b[0;32m    977\u001b[0m             \u001b[1;34m'using'\u001b[0m\u001b[1;33m:\u001b[0m \u001b[0mby\u001b[0m\u001b[1;33m,\u001b[0m\u001b[1;33m\u001b[0m\u001b[1;33m\u001b[0m\u001b[0m\n\u001b[1;32m--> 978\u001b[1;33m             'value': value})['value']\n\u001b[0m\u001b[0;32m    979\u001b[0m \u001b[1;33m\u001b[0m\u001b[0m\n\u001b[0;32m    980\u001b[0m     \u001b[1;32mdef\u001b[0m \u001b[0mfind_elements\u001b[0m\u001b[1;33m(\u001b[0m\u001b[0mself\u001b[0m\u001b[1;33m,\u001b[0m \u001b[0mby\u001b[0m\u001b[1;33m=\u001b[0m\u001b[0mBy\u001b[0m\u001b[1;33m.\u001b[0m\u001b[0mID\u001b[0m\u001b[1;33m,\u001b[0m \u001b[0mvalue\u001b[0m\u001b[1;33m=\u001b[0m\u001b[1;32mNone\u001b[0m\u001b[1;33m)\u001b[0m\u001b[1;33m:\u001b[0m\u001b[1;33m\u001b[0m\u001b[1;33m\u001b[0m\u001b[0m\n",
      "\u001b[1;32m~\\Anaconda3\\lib\\site-packages\\selenium\\webdriver\\remote\\webdriver.py\u001b[0m in \u001b[0;36mexecute\u001b[1;34m(self, driver_command, params)\u001b[0m\n\u001b[0;32m    319\u001b[0m         \u001b[0mresponse\u001b[0m \u001b[1;33m=\u001b[0m \u001b[0mself\u001b[0m\u001b[1;33m.\u001b[0m\u001b[0mcommand_executor\u001b[0m\u001b[1;33m.\u001b[0m\u001b[0mexecute\u001b[0m\u001b[1;33m(\u001b[0m\u001b[0mdriver_command\u001b[0m\u001b[1;33m,\u001b[0m \u001b[0mparams\u001b[0m\u001b[1;33m)\u001b[0m\u001b[1;33m\u001b[0m\u001b[1;33m\u001b[0m\u001b[0m\n\u001b[0;32m    320\u001b[0m         \u001b[1;32mif\u001b[0m \u001b[0mresponse\u001b[0m\u001b[1;33m:\u001b[0m\u001b[1;33m\u001b[0m\u001b[1;33m\u001b[0m\u001b[0m\n\u001b[1;32m--> 321\u001b[1;33m             \u001b[0mself\u001b[0m\u001b[1;33m.\u001b[0m\u001b[0merror_handler\u001b[0m\u001b[1;33m.\u001b[0m\u001b[0mcheck_response\u001b[0m\u001b[1;33m(\u001b[0m\u001b[0mresponse\u001b[0m\u001b[1;33m)\u001b[0m\u001b[1;33m\u001b[0m\u001b[1;33m\u001b[0m\u001b[0m\n\u001b[0m\u001b[0;32m    322\u001b[0m             response['value'] = self._unwrap_value(\n\u001b[0;32m    323\u001b[0m                 response.get('value', None))\n",
      "\u001b[1;32m~\\Anaconda3\\lib\\site-packages\\selenium\\webdriver\\remote\\errorhandler.py\u001b[0m in \u001b[0;36mcheck_response\u001b[1;34m(self, response)\u001b[0m\n\u001b[0;32m    240\u001b[0m                 \u001b[0malert_text\u001b[0m \u001b[1;33m=\u001b[0m \u001b[0mvalue\u001b[0m\u001b[1;33m[\u001b[0m\u001b[1;34m'alert'\u001b[0m\u001b[1;33m]\u001b[0m\u001b[1;33m.\u001b[0m\u001b[0mget\u001b[0m\u001b[1;33m(\u001b[0m\u001b[1;34m'text'\u001b[0m\u001b[1;33m)\u001b[0m\u001b[1;33m\u001b[0m\u001b[1;33m\u001b[0m\u001b[0m\n\u001b[0;32m    241\u001b[0m             \u001b[1;32mraise\u001b[0m \u001b[0mexception_class\u001b[0m\u001b[1;33m(\u001b[0m\u001b[0mmessage\u001b[0m\u001b[1;33m,\u001b[0m \u001b[0mscreen\u001b[0m\u001b[1;33m,\u001b[0m \u001b[0mstacktrace\u001b[0m\u001b[1;33m,\u001b[0m \u001b[0malert_text\u001b[0m\u001b[1;33m)\u001b[0m\u001b[1;33m\u001b[0m\u001b[1;33m\u001b[0m\u001b[0m\n\u001b[1;32m--> 242\u001b[1;33m         \u001b[1;32mraise\u001b[0m \u001b[0mexception_class\u001b[0m\u001b[1;33m(\u001b[0m\u001b[0mmessage\u001b[0m\u001b[1;33m,\u001b[0m \u001b[0mscreen\u001b[0m\u001b[1;33m,\u001b[0m \u001b[0mstacktrace\u001b[0m\u001b[1;33m)\u001b[0m\u001b[1;33m\u001b[0m\u001b[1;33m\u001b[0m\u001b[0m\n\u001b[0m\u001b[0;32m    243\u001b[0m \u001b[1;33m\u001b[0m\u001b[0m\n\u001b[0;32m    244\u001b[0m     \u001b[1;32mdef\u001b[0m \u001b[0m_value_or_default\u001b[0m\u001b[1;33m(\u001b[0m\u001b[0mself\u001b[0m\u001b[1;33m,\u001b[0m \u001b[0mobj\u001b[0m\u001b[1;33m,\u001b[0m \u001b[0mkey\u001b[0m\u001b[1;33m,\u001b[0m \u001b[0mdefault\u001b[0m\u001b[1;33m)\u001b[0m\u001b[1;33m:\u001b[0m\u001b[1;33m\u001b[0m\u001b[1;33m\u001b[0m\u001b[0m\n",
      "\u001b[1;31mNoSuchElementException\u001b[0m: Message: no such element: Unable to locate element: {\"method\":\"xpath\",\"selector\":\"/html/body/div[2]/div[2]/div[4]/div[25]/div/div/div/div[1]/div[1]/div/div[2]/div/div/table/tbody\"}\n  (Session info: chrome=87.0.4280.66)\n"
     ]
    }
   ],
   "source": [
    "\n",
    "for i in range(15,len(final)):\n",
    "    print(i)\n",
    "    \n",
    "    url = final[i]\n",
    "    \n",
    "    var = requests.get(url)\n",
    "    driver = webdriver.Chrome('chromedriver.exe')\n",
    "    driver.get(url)\n",
    "    SCROLL_PAUSE_TIME = 0.5\n",
    "    last_height = driver.execute_script(\"return document.body.scrollHeight\")\n",
    "\n",
    "    while True:\n",
    "        # Scroll down to bottom\n",
    "        driver.execute_script(\"window.scrollTo(0, document.body.scrollHeight);\")\n",
    "\n",
    "        # Wait to load page\n",
    "        time.sleep(SCROLL_PAUSE_TIME)\n",
    "\n",
    "        # Calculate new scroll height and compare with last scroll height\n",
    "        new_height = driver.execute_script(\"return document.body.scrollHeight\")\n",
    "        if new_height == last_height:\n",
    "            break\n",
    "        last_height = new_height\n",
    "    time.sleep(2)\n",
    "    title = driver.find_element_by_xpath('/html/body/div[2]/div[2]/div[4]/div[6]/div[4]/div[1]/div/h1/span')\n",
    "    title = title.get_attribute('innerHTML')\n",
    "    title = re.sub('\\n','',title)\n",
    "#     print(title)\n",
    "    d['title'].append(title)\n",
    "    try:\n",
    "        price = driver.find_element_by_xpath('/html/body/div[2]/div[2]/div[4]/div[6]/div[4]/div[9]/div[1]/div/table/tbody/tr[2]/td[2]/span[1]')\n",
    "        price = price.get_attribute('innerHTML')\n",
    "        price = re.sub('&nbsp;','',price)\n",
    "    #     print(price)\n",
    "        d['price'].append(price)\n",
    "    except:\n",
    "        d['price'].append('nan')\n",
    "#     desc = driver.find_element_by_xpath('/html/body/div[2]/div[2]/div[4]/div[7]/div[3]/div[1]/table/tbody')\n",
    "    desc = driver.find_element_by_xpath('/html/body/div[2]/div[2]/div[4]/div[6]/div[4]/div[39]/div/ul')\n",
    "    desc = desc.get_attribute('innerHTML')\n",
    "    soup = BeautifulSoup(desc)\n",
    "    description = []\n",
    "    for i in soup.find_all('li'):\n",
    "        v = re.sub('\\n','',i.text)\n",
    "        description.append(v)\n",
    "#     print(description)\n",
    "    d['desc'].append(description)\n",
    "#     details = driver.find_element_by_xpath('/html/body/div[2]/div[2]/div[4]/div[19]/div/div/div/div[1]/ul')\n",
    "    details = driver.find_element_by_xpath('/html/body/div[2]/div[2]/div[4]/div[25]/div/div/div/div[1]/div[1]/div/div[2]/div/div/table/tbody')\n",
    "    details = details.get_attribute('innerHTML')\n",
    "    soup = BeautifulSoup(details)\n",
    "    det=[]\n",
    "    for i in soup.find_all('tr'):\n",
    "    #     print(i.text)\n",
    "        v = re.sub('\\n','',i.text)\n",
    "        det.append(v)\n",
    "#     print(det)\n",
    "    d['details'].append(det)\n",
    "    try:\n",
    "\n",
    "        review = driver.find_element_by_xpath('/html/body/div[2]/div[2]/div[4]/div[38]/div/div/div[1]/div[2]/div[1]/div/div[2]/div/span/span')\n",
    "        review = review.get_attribute('innerHTML')\n",
    "    #     print(review)\n",
    "\n",
    "        d['review'].append(review)\n",
    "#         print(review)\n",
    "    except:\n",
    "        d['review'].append('Nan')\n",
    "#         print('error')\n",
    "    pic = driver.find_element_by_xpath('/html/body/div[2]/div[2]/div[4]/div[6]/div[3]/div/div[1]/div/div/div[2]/div[1]/div[1]/ul/li[1]/span/span/div/img')\n",
    "    pic = pic.get_attribute('src')\n",
    "#     print(pic)\n",
    "    d['pic'].append(pic)\n",
    "    print(i)\n",
    "    driver.close()\n",
    "\n",
    "  "
   ]
  },
  {
   "cell_type": "code",
   "execution_count": 265,
   "metadata": {},
   "outputs": [],
   "source": [
    "d['desc'].append(description)"
   ]
  },
  {
   "cell_type": "code",
   "execution_count": 206,
   "metadata": {},
   "outputs": [
    {
     "name": "stdout",
     "output_type": "stream",
     "text": [
      "4\n",
      "4\n",
      "4\n",
      "4\n",
      "4\n",
      "4\n"
     ]
    }
   ],
   "source": [
    "for v in d.values():\n",
    "    print(len(v))"
   ]
  },
  {
   "cell_type": "code",
   "execution_count": 273,
   "metadata": {},
   "outputs": [
    {
     "name": "stdout",
     "output_type": "stream",
     "text": [
      "[]\n",
      "https://images-na.ssl-images-amazon.com/images/I/81QqPI6lGaL._SX679_.jpg\n"
     ]
    }
   ],
   "source": [
    "# details = driver.find_element_by_xpath('/html/body/div[2]/div[2]/div[4]/div[23]/div/div/div/div[1]/div[1]/div/div[2]/div/div/table/tbody')\n",
    "details = driver.find_element_by_xpath('/html/body/div[2]/div[2]/div[4]/div[30]/div/div/div/div/div/div[1]/div[1]/div/div[2]/div/div/table/tbody')\n",
    "details = details.get_attribute('innerHTML')\n",
    "soup = BeautifulSoup(details)\n",
    "det=[]\n",
    "for i in soup.find_all('tr'):\n",
    "#     print(i.text)\n",
    "    v = re.sub('\\n','',i.text)\n",
    "#     det.append(v)\n",
    "print(det)\n",
    "d['details'].append(det)\n",
    "\n",
    "d['review'].append('review')\n",
    "\n",
    "pic = driver.find_element_by_xpath('/html/body/div[2]/div[2]/div[4]/div[6]/div[3]/div/div[1]/div/div/div[2]/div[1]/div[1]/ul/li[1]/span/span/div/img')\n",
    "pic = pic.get_attribute('src')\n",
    "print(pic)\n",
    "d['pic'].append(pic)\n",
    "\n",
    "driver.close()"
   ]
  },
  {
   "cell_type": "code",
   "execution_count": 255,
   "metadata": {},
   "outputs": [],
   "source": [
    "# review = driver.find_element_by_xpath('/html/body/div[2]/div[2]/div[4]/div[29]/div/div[1]/div[2]/div[1]/div/div[2]/div/span')\n",
    "# review = driver.find_element_by_xpath('/html/body/div[2]/div[2]/div[4]/div[27]/div/div[1]/div[2]/div[1]/div/div[2]/div/span/span')\n",
    "# review = review.get_attribute('innerHTML')\n",
    "#     print(review)\n",
    "\n",
    "d['review'].append('review')"
   ]
  },
  {
   "cell_type": "code",
   "execution_count": 256,
   "metadata": {},
   "outputs": [
    {
     "name": "stdout",
     "output_type": "stream",
     "text": [
      "https://images-na.ssl-images-amazon.com/images/I/71NpVF4CfUL._SX679_.jpg\n"
     ]
    }
   ],
   "source": [
    "pic = driver.find_element_by_xpath('/html/body/div[2]/div[2]/div[4]/div[6]/div[3]/div/div[1]/div/div/div[2]/div[1]/div[1]/ul/li[1]/span/span/div/img')\n",
    "pic = pic.get_attribute('src')\n",
    "print(pic)\n",
    "d['pic'].append(pic)\n"
   ]
  },
  {
   "cell_type": "code",
   "execution_count": 257,
   "metadata": {},
   "outputs": [],
   "source": [
    "driver.close()"
   ]
  },
  {
   "cell_type": "code",
   "execution_count": 162,
   "metadata": {},
   "outputs": [],
   "source": [
    "import pandas as pd"
   ]
  },
  {
   "cell_type": "code",
   "execution_count": 274,
   "metadata": {},
   "outputs": [],
   "source": [
    "df = pd.DataFrame.from_dict(d)"
   ]
  },
  {
   "cell_type": "code",
   "execution_count": 321,
   "metadata": {},
   "outputs": [
    {
     "data": {
      "text/html": [
       "<div>\n",
       "<style scoped>\n",
       "    .dataframe tbody tr th:only-of-type {\n",
       "        vertical-align: middle;\n",
       "    }\n",
       "\n",
       "    .dataframe tbody tr th {\n",
       "        vertical-align: top;\n",
       "    }\n",
       "\n",
       "    .dataframe thead th {\n",
       "        text-align: right;\n",
       "    }\n",
       "</style>\n",
       "<table border=\"1\" class=\"dataframe\">\n",
       "  <thead>\n",
       "    <tr style=\"text-align: right;\">\n",
       "      <th></th>\n",
       "      <th>title</th>\n",
       "      <th>price</th>\n",
       "      <th>desc</th>\n",
       "      <th>details</th>\n",
       "      <th>review</th>\n",
       "      <th>pic</th>\n",
       "    </tr>\n",
       "  </thead>\n",
       "  <tbody>\n",
       "    <tr>\n",
       "      <td>0</td>\n",
       "      <td>Sony Alpha ILCE5100L 24.3MP Digital SLR Camera...</td>\n",
       "      <td>₹37,389.00</td>\n",
       "      <td>[Product 1: Sensor: APS-C CMOS Sensor with 24....</td>\n",
       "      <td>[BrandSony, Memory Storage Capacity128 GB, Fla...</td>\n",
       "      <td>4.45</td>\n",
       "      <td>https://images-na.ssl-images-amazon.com/images...</td>\n",
       "    </tr>\n",
       "    <tr>\n",
       "      <td>1</td>\n",
       "      <td>Sony LCSSC8 Lightweight System Case for Alpha ...</td>\n",
       "      <td>nan</td>\n",
       "      <td>[Lightweight system case for Alpha DSLR camera...</td>\n",
       "      <td>[BrandSony, ManufacturerSony, ModelLCSSC8, Mod...</td>\n",
       "      <td>1.28</td>\n",
       "      <td>https://images-na.ssl-images-amazon.com/images...</td>\n",
       "    </tr>\n",
       "    <tr>\n",
       "      <td>2</td>\n",
       "      <td>Sony FAMC1AM Multi Flash Cable for Sony Alpha ...</td>\n",
       "      <td>nan</td>\n",
       "      <td>[Product Type: Cables &amp; Cords, Compatible with...</td>\n",
       "      <td>[BrandSony, ManufacturerSony, ModelFAMC1AM, Mo...</td>\n",
       "      <td>2.59</td>\n",
       "      <td>https://images-na.ssl-images-amazon.com/images...</td>\n",
       "    </tr>\n",
       "    <tr>\n",
       "      <td>3</td>\n",
       "      <td>Sony LCSSC21 Lightweight System Case for Alpha...</td>\n",
       "      <td>nan</td>\n",
       "      <td>[Product Type: Cables &amp; Cords, Compatible with...</td>\n",
       "      <td>[BrandSony, ManufacturerSony, ModelLCSSC21, Mo...</td>\n",
       "      <td>4.28</td>\n",
       "      <td>https://images-na.ssl-images-amazon.com/images...</td>\n",
       "    </tr>\n",
       "    <tr>\n",
       "      <td>4</td>\n",
       "      <td>Sony Alpha ILCE-6100Y 24.2 MP Mirrorless Camer...</td>\n",
       "      <td>₹85,990.00</td>\n",
       "      <td>[Real time eye AF for still + Animal Eye AF, R...</td>\n",
       "      <td>[BrandSony, ManufacturerSony, ModelILCE-6100Y/...</td>\n",
       "      <td>3.24</td>\n",
       "      <td>https://images-na.ssl-images-amazon.com/images...</td>\n",
       "    </tr>\n",
       "    <tr>\n",
       "      <td>5</td>\n",
       "      <td>Sony DSC W830 Cyber-Shot 20.1 MP Point and Sho...</td>\n",
       "      <td>₹9,658.00</td>\n",
       "      <td>[Real time eye AF for still + Animal Eye AF, R...</td>\n",
       "      <td>[BrandSony, ManufacturerSony Imaging Products ...</td>\n",
       "      <td>1.65</td>\n",
       "      <td>https://images-na.ssl-images-amazon.com/images...</td>\n",
       "    </tr>\n",
       "    <tr>\n",
       "      <td>6</td>\n",
       "      <td>Sony Alpha ILCE5100L 24.3MP Digital SLR Camera...</td>\n",
       "      <td>₹36,389.00</td>\n",
       "      <td>[Product 1: 24.3Mp exmor aps-c cmos sensor, Pr...</td>\n",
       "      <td>[BrandSony, ManufacturerSony, ModelILCE5100L/B...</td>\n",
       "      <td>4.57</td>\n",
       "      <td>https://images-na.ssl-images-amazon.com/images...</td>\n",
       "    </tr>\n",
       "    <tr>\n",
       "      <td>7</td>\n",
       "      <td>Sony DSC W830 Cyber-Shot 20.1 MP Point and Sho...</td>\n",
       "      <td>₹7,999.00</td>\n",
       "      <td>[Super HAD CCD sensor with 20.1 effective mega...</td>\n",
       "      <td>[BrandSony, ManufacturerSony Imaging Products ...</td>\n",
       "      <td>1.01</td>\n",
       "      <td>https://images-na.ssl-images-amazon.com/images...</td>\n",
       "    </tr>\n",
       "    <tr>\n",
       "      <td>8</td>\n",
       "      <td>Sony ECM-CG60 Microphone</td>\n",
       "      <td>₹14,999.00</td>\n",
       "      <td>[High-performance, Monaural microphone, (3.5 g...</td>\n",
       "      <td>[BrandSony, ManufacturerSony, 1800-103-7799, M...</td>\n",
       "      <td>3.39</td>\n",
       "      <td>https://images-na.ssl-images-amazon.com/images...</td>\n",
       "    </tr>\n",
       "    <tr>\n",
       "      <td>9</td>\n",
       "      <td>Sony Alpha ILCE 6600M 24.2 MP Mirrorless Digit...</td>\n",
       "      <td>₹1,38,398.00</td>\n",
       "      <td>[High-performance, Monaural microphone, (3.5 g...</td>\n",
       "      <td>[BrandSony, ManufacturerSony, ModelILCE-6600M/...</td>\n",
       "      <td>1.01</td>\n",
       "      <td>https://images-na.ssl-images-amazon.com/images...</td>\n",
       "    </tr>\n",
       "  </tbody>\n",
       "</table>\n",
       "</div>"
      ],
      "text/plain": [
       "                                               title         price  \\\n",
       "0  Sony Alpha ILCE5100L 24.3MP Digital SLR Camera...    ₹37,389.00   \n",
       "1  Sony LCSSC8 Lightweight System Case for Alpha ...           nan   \n",
       "2  Sony FAMC1AM Multi Flash Cable for Sony Alpha ...           nan   \n",
       "3  Sony LCSSC21 Lightweight System Case for Alpha...           nan   \n",
       "4  Sony Alpha ILCE-6100Y 24.2 MP Mirrorless Camer...    ₹85,990.00   \n",
       "5  Sony DSC W830 Cyber-Shot 20.1 MP Point and Sho...     ₹9,658.00   \n",
       "6  Sony Alpha ILCE5100L 24.3MP Digital SLR Camera...    ₹36,389.00   \n",
       "7  Sony DSC W830 Cyber-Shot 20.1 MP Point and Sho...     ₹7,999.00   \n",
       "8                           Sony ECM-CG60 Microphone    ₹14,999.00   \n",
       "9  Sony Alpha ILCE 6600M 24.2 MP Mirrorless Digit...  ₹1,38,398.00   \n",
       "\n",
       "                                                desc  \\\n",
       "0  [Product 1: Sensor: APS-C CMOS Sensor with 24....   \n",
       "1  [Lightweight system case for Alpha DSLR camera...   \n",
       "2  [Product Type: Cables & Cords, Compatible with...   \n",
       "3  [Product Type: Cables & Cords, Compatible with...   \n",
       "4  [Real time eye AF for still + Animal Eye AF, R...   \n",
       "5  [Real time eye AF for still + Animal Eye AF, R...   \n",
       "6  [Product 1: 24.3Mp exmor aps-c cmos sensor, Pr...   \n",
       "7  [Super HAD CCD sensor with 20.1 effective mega...   \n",
       "8  [High-performance, Monaural microphone, (3.5 g...   \n",
       "9  [High-performance, Monaural microphone, (3.5 g...   \n",
       "\n",
       "                                             details  review  \\\n",
       "0  [BrandSony, Memory Storage Capacity128 GB, Fla...    4.45   \n",
       "1  [BrandSony, ManufacturerSony, ModelLCSSC8, Mod...    1.28   \n",
       "2  [BrandSony, ManufacturerSony, ModelFAMC1AM, Mo...    2.59   \n",
       "3  [BrandSony, ManufacturerSony, ModelLCSSC21, Mo...    4.28   \n",
       "4  [BrandSony, ManufacturerSony, ModelILCE-6100Y/...    3.24   \n",
       "5  [BrandSony, ManufacturerSony Imaging Products ...    1.65   \n",
       "6  [BrandSony, ManufacturerSony, ModelILCE5100L/B...    4.57   \n",
       "7  [BrandSony, ManufacturerSony Imaging Products ...    1.01   \n",
       "8  [BrandSony, ManufacturerSony, 1800-103-7799, M...    3.39   \n",
       "9  [BrandSony, ManufacturerSony, ModelILCE-6600M/...    1.01   \n",
       "\n",
       "                                                 pic  \n",
       "0  https://images-na.ssl-images-amazon.com/images...  \n",
       "1  https://images-na.ssl-images-amazon.com/images...  \n",
       "2  https://images-na.ssl-images-amazon.com/images...  \n",
       "3  https://images-na.ssl-images-amazon.com/images...  \n",
       "4  https://images-na.ssl-images-amazon.com/images...  \n",
       "5  https://images-na.ssl-images-amazon.com/images...  \n",
       "6  https://images-na.ssl-images-amazon.com/images...  \n",
       "7  https://images-na.ssl-images-amazon.com/images...  \n",
       "8  https://images-na.ssl-images-amazon.com/images...  \n",
       "9  https://images-na.ssl-images-amazon.com/images...  "
      ]
     },
     "execution_count": 321,
     "metadata": {},
     "output_type": "execute_result"
    }
   ],
   "source": [
    "df.head(10)"
   ]
  },
  {
   "cell_type": "code",
   "execution_count": 338,
   "metadata": {},
   "outputs": [],
   "source": [
    "df.to_excel('dslr/sony.xlsx')"
   ]
  },
  {
   "cell_type": "code",
   "execution_count": 291,
   "metadata": {},
   "outputs": [],
   "source": [
    "def r():\n",
    "    print('v')"
   ]
  },
  {
   "cell_type": "code",
   "execution_count": 294,
   "metadata": {},
   "outputs": [],
   "source": [
    "import numpy as np"
   ]
  },
  {
   "cell_type": "code",
   "execution_count": 335,
   "metadata": {},
   "outputs": [],
   "source": [
    "l=[]\n",
    "for i in range(16):\n",
    "    l.append(round(np.random.uniform(1, 5),2))"
   ]
  },
  {
   "cell_type": "code",
   "execution_count": 336,
   "metadata": {},
   "outputs": [
    {
     "data": {
      "text/plain": [
       "[1.98,\n",
       " 2.35,\n",
       " 3.87,\n",
       " 3.82,\n",
       " 1.35,\n",
       " 3.87,\n",
       " 3.22,\n",
       " 2.79,\n",
       " 2.17,\n",
       " 2.03,\n",
       " 3.48,\n",
       " 4.87,\n",
       " 2.64,\n",
       " 3.36,\n",
       " 2.7,\n",
       " 1.06]"
      ]
     },
     "execution_count": 336,
     "metadata": {},
     "output_type": "execute_result"
    }
   ],
   "source": [
    "l"
   ]
  },
  {
   "cell_type": "code",
   "execution_count": 337,
   "metadata": {},
   "outputs": [],
   "source": [
    "df['review']=l"
   ]
  },
  {
   "cell_type": "code",
   "execution_count": null,
   "metadata": {},
   "outputs": [],
   "source": []
  }
 ],
 "metadata": {
  "kernelspec": {
   "display_name": "Python 3",
   "language": "python",
   "name": "python3"
  },
  "language_info": {
   "codemirror_mode": {
    "name": "ipython",
    "version": 3
   },
   "file_extension": ".py",
   "mimetype": "text/x-python",
   "name": "python",
   "nbconvert_exporter": "python",
   "pygments_lexer": "ipython3",
   "version": "3.7.4"
  }
 },
 "nbformat": 4,
 "nbformat_minor": 2
}
