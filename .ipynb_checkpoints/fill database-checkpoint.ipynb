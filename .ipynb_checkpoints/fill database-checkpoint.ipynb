{
 "cells": [
  {
   "cell_type": "code",
   "execution_count": 1,
   "metadata": {},
   "outputs": [],
   "source": [
    "import mysql.connector\n",
    "import urllib.request\n",
    "import pandas as pd\n",
    "import uuid\n",
    "import re"
   ]
  },
  {
   "cell_type": "code",
   "execution_count": 2,
   "metadata": {},
   "outputs": [],
   "source": [
    "mydb = mysql.connector.connect(\n",
    "  host=\"localhost\",\n",
    "  user=\"root\",\n",
    "  password=\"\",\n",
    "  database=\"wta\"\n",
    ")\n",
    "mycursor = mydb.cursor()\n"
   ]
  },
  {
   "cell_type": "code",
   "execution_count": 7,
   "metadata": {},
   "outputs": [],
   "source": []
  },
  {
   "cell_type": "code",
   "execution_count": 149,
   "metadata": {},
   "outputs": [],
   "source": [
    "df = pd.read_excel('data/women clothing/women_top.xlsx')"
   ]
  },
  {
   "cell_type": "code",
   "execution_count": 150,
   "metadata": {},
   "outputs": [
    {
     "data": {
      "text/html": [
       "<div>\n",
       "<style scoped>\n",
       "    .dataframe tbody tr th:only-of-type {\n",
       "        vertical-align: middle;\n",
       "    }\n",
       "\n",
       "    .dataframe tbody tr th {\n",
       "        vertical-align: top;\n",
       "    }\n",
       "\n",
       "    .dataframe thead th {\n",
       "        text-align: right;\n",
       "    }\n",
       "</style>\n",
       "<table border=\"1\" class=\"dataframe\">\n",
       "  <thead>\n",
       "    <tr style=\"text-align: right;\">\n",
       "      <th></th>\n",
       "      <th>Unnamed: 0</th>\n",
       "      <th>title</th>\n",
       "      <th>price</th>\n",
       "      <th>desc</th>\n",
       "      <th>details</th>\n",
       "      <th>review</th>\n",
       "      <th>pic</th>\n",
       "    </tr>\n",
       "  </thead>\n",
       "  <tbody>\n",
       "    <tr>\n",
       "      <td>0</td>\n",
       "      <td>0</td>\n",
       "      <td>Mitaha Casual Western Off Shoulder Top for Jea...</td>\n",
       "      <td>₹399.00</td>\n",
       "      <td>['Care Instructions: Machine Wash', 'Fit Type:...</td>\n",
       "      <td>['Date First Available:30 October 2020', 'Manu...</td>\n",
       "      <td>3.6 out of 5</td>\n",
       "      <td>https://images-na.ssl-images-amazon.com/images...</td>\n",
       "    </tr>\n",
       "    <tr>\n",
       "      <td>1</td>\n",
       "      <td>1</td>\n",
       "      <td>Cullinan Wears Woman Casual Full Sleeves high ...</td>\n",
       "      <td>₹999.00</td>\n",
       "      <td>['Care Instructions: Machine Wash', 'Fit Type:...</td>\n",
       "      <td>['Date First Available:11 October 2020', 'ASIN...</td>\n",
       "      <td>Nan</td>\n",
       "      <td>https://images-na.ssl-images-amazon.com/images...</td>\n",
       "    </tr>\n",
       "    <tr>\n",
       "      <td>2</td>\n",
       "      <td>2</td>\n",
       "      <td>Harpa Women Top</td>\n",
       "      <td>₹1,199.00</td>\n",
       "      <td>['Care Instructions: Hand Wash Only', 'Fit Typ...</td>\n",
       "      <td>['Item Weight:15 Grams', 'Date First Available...</td>\n",
       "      <td>4 out of 5</td>\n",
       "      <td>https://images-na.ssl-images-amazon.com/images...</td>\n",
       "    </tr>\n",
       "    <tr>\n",
       "      <td>3</td>\n",
       "      <td>3</td>\n",
       "      <td>fmania J B Fashion Women's Polyester Sky Blue ...</td>\n",
       "      <td>₹1,499.00</td>\n",
       "      <td>['Care Instructions: Dry Clean Only', 'Fit Typ...</td>\n",
       "      <td>['Product Dimensions:24 x 4 x 25 cm; 199 Grams...</td>\n",
       "      <td>3.7 out of 5</td>\n",
       "      <td>https://images-na.ssl-images-amazon.com/images...</td>\n",
       "    </tr>\n",
       "    <tr>\n",
       "      <td>4</td>\n",
       "      <td>4</td>\n",
       "      <td>Styleville.in Women's Top</td>\n",
       "      <td>₹1,199.00</td>\n",
       "      <td>['Care Instructions: Machine Wash', 'Fit Type:...</td>\n",
       "      <td>['Date First Available:3 March 2020', 'Manufac...</td>\n",
       "      <td>3.8 out of 5</td>\n",
       "      <td>https://images-na.ssl-images-amazon.com/images...</td>\n",
       "    </tr>\n",
       "  </tbody>\n",
       "</table>\n",
       "</div>"
      ],
      "text/plain": [
       "   Unnamed: 0                                              title       price  \\\n",
       "0           0  Mitaha Casual Western Off Shoulder Top for Jea...     ₹399.00   \n",
       "1           1  Cullinan Wears Woman Casual Full Sleeves high ...     ₹999.00   \n",
       "2           2                                    Harpa Women Top   ₹1,199.00   \n",
       "3           3  fmania J B Fashion Women's Polyester Sky Blue ...   ₹1,499.00   \n",
       "4           4                          Styleville.in Women's Top   ₹1,199.00   \n",
       "\n",
       "                                                desc  \\\n",
       "0  ['Care Instructions: Machine Wash', 'Fit Type:...   \n",
       "1  ['Care Instructions: Machine Wash', 'Fit Type:...   \n",
       "2  ['Care Instructions: Hand Wash Only', 'Fit Typ...   \n",
       "3  ['Care Instructions: Dry Clean Only', 'Fit Typ...   \n",
       "4  ['Care Instructions: Machine Wash', 'Fit Type:...   \n",
       "\n",
       "                                             details        review  \\\n",
       "0  ['Date First Available:30 October 2020', 'Manu...  3.6 out of 5   \n",
       "1  ['Date First Available:11 October 2020', 'ASIN...           Nan   \n",
       "2  ['Item Weight:15 Grams', 'Date First Available...    4 out of 5   \n",
       "3  ['Product Dimensions:24 x 4 x 25 cm; 199 Grams...  3.7 out of 5   \n",
       "4  ['Date First Available:3 March 2020', 'Manufac...  3.8 out of 5   \n",
       "\n",
       "                                                 pic  \n",
       "0  https://images-na.ssl-images-amazon.com/images...  \n",
       "1  https://images-na.ssl-images-amazon.com/images...  \n",
       "2  https://images-na.ssl-images-amazon.com/images...  \n",
       "3  https://images-na.ssl-images-amazon.com/images...  \n",
       "4  https://images-na.ssl-images-amazon.com/images...  "
      ]
     },
     "execution_count": 150,
     "metadata": {},
     "output_type": "execute_result"
    }
   ],
   "source": [
    "df.head()"
   ]
  },
  {
   "cell_type": "code",
   "execution_count": 151,
   "metadata": {},
   "outputs": [
    {
     "name": "stderr",
     "output_type": "stream",
     "text": [
      "C:\\Users\\Adithya\\Anaconda3\\lib\\site-packages\\ipykernel_launcher.py:9: SettingWithCopyWarning: \n",
      "A value is trying to be set on a copy of a slice from a DataFrame\n",
      "\n",
      "See the caveats in the documentation: http://pandas.pydata.org/pandas-docs/stable/user_guide/indexing.html#returning-a-view-versus-a-copy\n",
      "  if __name__ == '__main__':\n"
     ]
    }
   ],
   "source": [
    "for i in range(len(df['pic'])):\n",
    "    url = df['pic'][i]\n",
    "    if df['pic'][i].split(':')[0]=='data':\n",
    "        df.drop(i)\n",
    "        continue\n",
    "    ext=url.split('.')[-1]\n",
    "    id = str(uuid.uuid4())\n",
    "    urllib.request.urlretrieve(url, f\"website/assets/images/{id}.{ext}\")\n",
    "    df['pic'][i]=id+\".\"+ext"
   ]
  },
  {
   "cell_type": "code",
   "execution_count": 152,
   "metadata": {},
   "outputs": [],
   "source": [
    "df.to_excel('data/women clothing/women_top.xlsx')"
   ]
  },
  {
   "cell_type": "code",
   "execution_count": 153,
   "metadata": {},
   "outputs": [],
   "source": [
    "for i in range(len(df)):\n",
    "    if df['price'][i]=='nan':\n",
    "        df['price'][i]=df['price'][i-1]\n",
    "#     price=re.sub('₹','',df['price'][i])\n",
    "    try:\n",
    "        sql = \"INSERT INTO product (name,price,description,details,review,image,sub_id) VALUES (%s, %s,%s, %s,%s, %s,%s)\"\n",
    "        val = (df['title'][i],price,df['desc'][i],df['details'][i],'4',df['pic'][i],25)\n",
    "        mycursor.execute(sql, val)\n",
    "    except:\n",
    "        pass"
   ]
  },
  {
   "cell_type": "code",
   "execution_count": 154,
   "metadata": {},
   "outputs": [],
   "source": [
    "mydb.commit()"
   ]
  },
  {
   "cell_type": "code",
   "execution_count": 47,
   "metadata": {},
   "outputs": [],
   "source": [
    "import re"
   ]
  },
  {
   "cell_type": "code",
   "execution_count": 50,
   "metadata": {},
   "outputs": [
    {
     "data": {
      "text/plain": [
       "' 2,995.00'"
      ]
     },
     "execution_count": 50,
     "metadata": {},
     "output_type": "execute_result"
    }
   ],
   "source": [
    "re.sub('₹','',df['price'][0])"
   ]
  },
  {
   "cell_type": "code",
   "execution_count": 48,
   "metadata": {},
   "outputs": [
    {
     "data": {
      "text/plain": [
       "' ₹2,995.00'"
      ]
     },
     "execution_count": 48,
     "metadata": {},
     "output_type": "execute_result"
    }
   ],
   "source": [
    "df['price'][0]"
   ]
  },
  {
   "cell_type": "code",
   "execution_count": null,
   "metadata": {},
   "outputs": [],
   "source": []
  }
 ],
 "metadata": {
  "kernelspec": {
   "display_name": "Python 3",
   "language": "python",
   "name": "python3"
  },
  "language_info": {
   "codemirror_mode": {
    "name": "ipython",
    "version": 3
   },
   "file_extension": ".py",
   "mimetype": "text/x-python",
   "name": "python",
   "nbconvert_exporter": "python",
   "pygments_lexer": "ipython3",
   "version": "3.7.4"
  }
 },
 "nbformat": 4,
 "nbformat_minor": 2
}
