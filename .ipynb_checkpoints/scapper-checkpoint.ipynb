{
 "cells": [
  {
   "cell_type": "code",
   "execution_count": 1,
   "metadata": {},
   "outputs": [],
   "source": [
    "from selenium import webdriver\n",
    "import time\n",
    "from bs4 import BeautifulSoup\n",
    "import pprint as p\n",
    "import requests\n",
    "import re"
   ]
  },
  {
   "cell_type": "code",
   "execution_count": 261,
   "metadata": {},
   "outputs": [],
   "source": [
    "driver = webdriver.Chrome('chromedriver.exe')\n",
    "driver.get(\"https://www.amazon.in/s?k=grocery&crid=7V7W578SEJN&sprefix=groce%2Caps%2C322&ref=nb_sb_ss_ts-oa-p_1_5\")"
   ]
  },
  {
   "cell_type": "code",
   "execution_count": 262,
   "metadata": {},
   "outputs": [],
   "source": [
    "SCROLL_PAUSE_TIME = 0.5\n",
    "li=[]\n",
    "# Get scroll height\n",
    "last_height = driver.execute_script(\"return document.body.scrollHeight\")\n",
    "\n",
    "while True:\n",
    "    # Scroll down to bottom\n",
    "    driver.execute_script(\"window.scrollTo(0, document.body.scrollHeight);\")\n",
    "\n",
    "    # Wait to load page\n",
    "    time.sleep(SCROLL_PAUSE_TIME)\n",
    "\n",
    "    # Calculate new scroll height and compare with last scroll height\n",
    "    new_height = driver.execute_script(\"return document.body.scrollHeight\")\n",
    "    if new_height == last_height:\n",
    "        break\n",
    "    last_height = new_height\n",
    "time.sleep(5)\n",
    "text = driver.find_element_by_xpath('/html/body/div[1]/div[2]/div[1]/div[2]/div/span[3]/div[2]')\n",
    "text = text.get_attribute('innerHTML')\n",
    "from bs4 import BeautifulSoup\n",
    "import pprint as p\n",
    "soup = BeautifulSoup(text)\n",
    "for i in soup.find_all('div',class_='sg-col-inner'):\n",
    "    for k in i.find_all('a'):\n",
    "        li.append(k.get('href'))\n",
    "        break\n",
    "driver.close()"
   ]
  },
  {
   "cell_type": "code",
   "execution_count": 263,
   "metadata": {},
   "outputs": [
    {
     "data": {
      "text/plain": [
       "['/gp/slredirect/picassoRedirect.html/ref=pa_sp_atf_aps_sr_pg1_1?ie=UTF8&adId=A08647605CGO16F0PJZL&url=%2FMaggi-2-Minute-Noodles-Masala-Pack%2Fdp%2FB07B4KQRZG%2Fref%3Dsr_1_1_sspa%3Fcrid%3D7V7W578SEJN%26dchild%3D1%26keywords%3Dgrocery%26qid%3D1606467732%26sprefix%3Dgroce%252Caps%252C322%26sr%3D8-1-spons%26psc%3D1&qualifier=1606467732&id=8933728630416195&widgetName=sp_atf',\n",
       " '/gp/slredirect/picassoRedirect.html/ref=pa_sp_atf_aps_sr_pg1_1?ie=UTF8&adId=A0856944B224OGUWY8MT&url=%2FSprig-Cinnamon-Honey-325g%2Fdp%2FB0768RFFWX%2Fref%3Dsr_1_2_sspa%3Fcrid%3D7V7W578SEJN%26dchild%3D1%26keywords%3Dgrocery%26qid%3D1606467732%26sprefix%3Dgroce%252Caps%252C322%26sr%3D8-2-spons%26psc%3D1&qualifier=1606467732&id=8933728630416195&widgetName=sp_atf',\n",
       " '/gp/slredirect/picassoRedirect.html/ref=pa_sp_atf_aps_sr_pg1_1?ie=UTF8&adId=A0001751UEWOTF4J1WKJ&url=%2FNatures-Nectar-Natural-Honey-500g%2Fdp%2FB01NCAAKB5%2Fref%3Dsr_1_3_sspa%3Fcrid%3D7V7W578SEJN%26dchild%3D1%26keywords%3Dgrocery%26qid%3D1606467732%26sprefix%3Dgroce%252Caps%252C322%26sr%3D8-3-spons%26psc%3D1&qualifier=1606467732&id=8933728630416195&widgetName=sp_atf',\n",
       " '/gp/slredirect/picassoRedirect.html/ref=pa_sp_atf_aps_sr_pg1_1?ie=UTF8&adId=A100334810H5JCJMKYKGJ&url=%2FProtinex-Original-400-g%2Fdp%2FB019391JCQ%2Fref%3Dsr_1_4_sspa%3Fcrid%3D7V7W578SEJN%26dchild%3D1%26keywords%3Dgrocery%26qid%3D1606467732%26sprefix%3Dgroce%252Caps%252C322%26sr%3D8-4-spons%26psc%3D1&qualifier=1606467732&id=8933728630416195&widgetName=sp_atf',\n",
       " '/gp/bestsellers/hpc/7074068031/ref=sr_bs_4_7074068031_1',\n",
       " '/Vedaka-Poha-Avalakki-Flattened-Thick/dp/B07HTSP64T/ref=sr_1_6?almBrandId=ctnow&crid=7V7W578SEJN&dchild=1&fpw=alm&keywords=grocery&qid=1606467732&sprefix=groce%2Caps%2C322&sr=8-6',\n",
       " '/gp/bestsellers/grocery/4860471031/ref=sr_bs_6_4860471031_1',\n",
       " '/gp/profile/amzn1.account.AH4IKLKSDHOUMPRABTGLC4EJUUOQ/ref=sxin_9?cv_ct_id=amzn1.osa.03a8b326-ec88-4cce-a5e7-95f682b6b81c.A21TJRUUN4KGV.en_IN&cv_ct_pg=search&cv_ct_wn=osp-single-source-gl-ranking&cv_ct_we=contributor-profile&pd_rd_w=MM8zN&pf_rd_p=e0ec3157-32a0-4197-a7f6-49f9023b486e&pf_rd_r=GCSZMM0374TWTX0N4GXB&pd_rd_r=828899dc-3fad-4233-9e0e-d30e41e480a2&pd_rd_wg=qjASv&qid=1606467732&cv_ct_cx=grocery',\n",
       " '/ospublishing/story/03a8b326-ec88-4cce-a5e7-95f682b6b81c/ref=sxin_9?cv_ct_we=article-page&pd_rd_w=MM8zN&pf_rd_p=e0ec3157-32a0-4197-a7f6-49f9023b486e&pf_rd_r=GCSZMM0374TWTX0N4GXB&pd_rd_r=828899dc-3fad-4233-9e0e-d30e41e480a2&pd_rd_wg=qjASv&qid=1606467732&cv_ct_pg=search&cv_ct_wn=osp-single-source-gl-ranking&ascsubtag=amzn1.osa.03a8b326-ec88-4cce-a5e7-95f682b6b81c.A21TJRUUN4KGV.en_IN&linkCode=oas&cv_ct_id=amzn1.osa.03a8b326-ec88-4cce-a5e7-95f682b6b81c.A21TJRUUN4KGV.en_IN&tag=htsyndicate-21&cv_ct_cx=grocery',\n",
       " '/Zandu-Pure-Honey-500g/dp/B01CHL3Z42/ref=sxin_9?ascsubtag=amzn1.osa.03a8b326-ec88-4cce-a5e7-95f682b6b81c.A21TJRUUN4KGV.en_IN&creativeASIN=B01CHL3Z42&crid=7V7W578SEJN&cv_ct_cx=grocery&cv_ct_id=amzn1.osa.03a8b326-ec88-4cce-a5e7-95f682b6b81c.A21TJRUUN4KGV.en_IN&cv_ct_pg=search&cv_ct_we=asin&cv_ct_wn=osp-single-source-gl-ranking&dchild=1&keywords=grocery&linkCode=oas&pd_rd_i=B01CHL3Z42&pd_rd_r=828899dc-3fad-4233-9e0e-d30e41e480a2&pd_rd_w=MM8zN&pd_rd_wg=qjASv&pf_rd_p=e0ec3157-32a0-4197-a7f6-49f9023b486e&pf_rd_r=GCSZMM0374TWTX0N4GXB&qid=1606467732&sprefix=groce%2Caps%2C322&sr=1-1-5b72de9d-29e4-4d53-b588-61ea05f598f4&tag=htsyndicate-21',\n",
       " '/Dabur-100-Pure-Honey-Squeezy/dp/B073YSQ927/ref=sxin_9?ascsubtag=amzn1.osa.03a8b326-ec88-4cce-a5e7-95f682b6b81c.A21TJRUUN4KGV.en_IN&creativeASIN=B073YSQ927&crid=7V7W578SEJN&cv_ct_cx=grocery&cv_ct_id=amzn1.osa.03a8b326-ec88-4cce-a5e7-95f682b6b81c.A21TJRUUN4KGV.en_IN&cv_ct_pg=search&cv_ct_we=asin&cv_ct_wn=osp-single-source-gl-ranking&dchild=1&keywords=grocery&linkCode=oas&pd_rd_i=B073YSQ927&pd_rd_r=828899dc-3fad-4233-9e0e-d30e41e480a2&pd_rd_w=MM8zN&pd_rd_wg=qjASv&pf_rd_p=e0ec3157-32a0-4197-a7f6-49f9023b486e&pf_rd_r=GCSZMM0374TWTX0N4GXB&qid=1606467732&sprefix=groce%2Caps%2C322&sr=1-2-5b72de9d-29e4-4d53-b588-61ea05f598f4&tag=htsyndicate-21',\n",
       " '/Patanjali-Honey-1kg/dp/B01C8QIBJ0/ref=sxin_9?ascsubtag=amzn1.osa.03a8b326-ec88-4cce-a5e7-95f682b6b81c.A21TJRUUN4KGV.en_IN&creativeASIN=B01C8QIBJ0&crid=7V7W578SEJN&cv_ct_cx=grocery&cv_ct_id=amzn1.osa.03a8b326-ec88-4cce-a5e7-95f682b6b81c.A21TJRUUN4KGV.en_IN&cv_ct_pg=search&cv_ct_we=asin&cv_ct_wn=osp-single-source-gl-ranking&dchild=1&keywords=grocery&linkCode=oas&pd_rd_i=B01C8QIBJ0&pd_rd_r=828899dc-3fad-4233-9e0e-d30e41e480a2&pd_rd_w=MM8zN&pd_rd_wg=qjASv&pf_rd_p=e0ec3157-32a0-4197-a7f6-49f9023b486e&pf_rd_r=GCSZMM0374TWTX0N4GXB&qid=1606467732&sprefix=groce%2Caps%2C322&sr=1-3-5b72de9d-29e4-4d53-b588-61ea05f598f4&tag=htsyndicate-21',\n",
       " '/Apis-Himalaya-Honey-1kg-Free/dp/B0168I6B32/ref=sxin_9?ascsubtag=amzn1.osa.03a8b326-ec88-4cce-a5e7-95f682b6b81c.A21TJRUUN4KGV.en_IN&creativeASIN=B0168I6B32&crid=7V7W578SEJN&cv_ct_cx=grocery&cv_ct_id=amzn1.osa.03a8b326-ec88-4cce-a5e7-95f682b6b81c.A21TJRUUN4KGV.en_IN&cv_ct_pg=search&cv_ct_we=asin&cv_ct_wn=osp-single-source-gl-ranking&dchild=1&keywords=grocery&linkCode=oas&pd_rd_i=B0168I6B32&pd_rd_r=828899dc-3fad-4233-9e0e-d30e41e480a2&pd_rd_w=MM8zN&pd_rd_wg=qjASv&pf_rd_p=e0ec3157-32a0-4197-a7f6-49f9023b486e&pf_rd_r=GCSZMM0374TWTX0N4GXB&qid=1606467732&sprefix=groce%2Caps%2C322&sr=1-4-5b72de9d-29e4-4d53-b588-61ea05f598f4&tag=htsyndicate-21',\n",
       " '/Parle-Rusk-Elachi-300g/dp/B071GC8FKC/ref=sr_1_8?crid=7V7W578SEJN&dchild=1&keywords=grocery&qid=1606467732&s=pantry&sprefix=groce%2Caps%2C322&sr=8-8',\n",
       " '/gp/bestsellers/grocery/4860261031/ref=sr_bs_8_4860261031_1',\n",
       " '/Nandini-Pure-Ghee-1L-Pouch/dp/B01HBEO698/ref=sr_1_10?crid=7V7W578SEJN&dchild=1&keywords=grocery&qid=1606467732&s=pantry&sprefix=groce%2Caps%2C322&sr=8-10',\n",
       " '/Tulsi-Almonds-200g/dp/B01HBRBWLU/ref=ice_ac_b_dpb?crid=7V7W578SEJN&dchild=1&keywords=grocery&qid=1606467732&sprefix=groce%2Caps%2C322&sr=8-11',\n",
       " '/gp/bestsellers/grocery/4860493031/ref=sr_bs_11_4860493031_1',\n",
       " '/gp/bestsellers/grocery/4859750031/ref=sr_bs_12_4859750031_1',\n",
       " '/Maggi-2-Minute-Noodles-Masala-Pack/dp/B07B4KQRZG/ref=sr_1_14_mod_primary_new?crid=7V7W578SEJN&dchild=1&keywords=grocery&qid=1606467732&sbo=RZvfv%2F%2FHxDF%2BO5021pAnSA%3D%3D&sprefix=groce%2Caps%2C322&sr=8-14',\n",
       " '/KOUZZINA-Reusable-Foldable-Supermarket-Multicolor/dp/B08NYQHQCK/ref=sr_1_15?crid=7V7W578SEJN&dchild=1&keywords=grocery&qid=1606467732&sprefix=groce%2Caps%2C322&sr=8-15',\n",
       " '/Fortune-Rozana-Basmati-Rice-1kg/dp/B01H5L5X3U/ref=sr_1_16?crid=7V7W578SEJN&dchild=1&keywords=grocery&qid=1606467732&s=pantry&sprefix=groce%2Caps%2C322&sr=8-16',\n",
       " '/Surf-Excel-Easy-Detergent-Powder/dp/B00TS89BSW/ref=sr_1_17_mod_primary_new?crid=7V7W578SEJN&dchild=1&keywords=grocery&qid=1606467732&sbo=RZvfv%2F%2FHxDF%2BO5021pAnSA%3D%3D&sprefix=groce%2Caps%2C322&sr=8-17',\n",
       " '/Amazon-Brand-Vedaka-Popular-Arhar/dp/B079NP4MC9/ref=sr_1_18?crid=7V7W578SEJN&dchild=1&keywords=grocery&qid=1606467732&sprefix=groce%2Caps%2C322&sr=8-18',\n",
       " '/Grocery-House-Orange-Narangi-Flavour/dp/B08JS54B4Q/ref=sr_1_19?crid=7V7W578SEJN&dchild=1&keywords=grocery&qid=1606467732&sprefix=groce%2Caps%2C322&sr=8-19',\n",
       " '/gp/bestsellers/grocery/4860242031/ref=sr_bs_19_4860242031_1',\n",
       " '/gp/slredirect/picassoRedirect.html/ref=pa_sp_mtf_aps_sr_pg1_1?ie=UTF8&adId=A03075761ADX57LQOP02B&url=%2FGILRAS-Sabut-Masala-Mixture-Spices%2Fdp%2FB08G5CXRWJ%2Fref%3Dsr_1_21_sspa%3Fcrid%3D7V7W578SEJN%26dchild%3D1%26keywords%3Dgrocery%26qid%3D1606467732%26sprefix%3Dgroce%252Caps%252C322%26sr%3D8-21-spons%26psc%3D1&qualifier=1606467732&id=8933728630416195&widgetName=sp_mtf',\n",
       " '/gp/slredirect/picassoRedirect.html/ref=pa_sp_mtf_aps_sr_pg1_1?ie=UTF8&adId=A06866273FSQZRVMDN444&url=%2FVedaka-Premium-Sunflower-Seeds-200g%2Fdp%2FB07GR2Y3W4%2Fref%3Dsr_1_22_sspa%3Fcrid%3D7V7W578SEJN%26dchild%3D1%26keywords%3Dgrocery%26qid%3D1606467732%26sprefix%3Dgroce%252Caps%252C322%26sr%3D8-22-spons%26psc%3D1&qualifier=1606467732&id=8933728630416195&widgetName=sp_mtf',\n",
       " '/gp/slredirect/picassoRedirect.html/ref=pa_sp_mtf_aps_sr_pg1_1?ie=UTF8&adId=A080499924COHAHAW8WGZ&url=%2FAmazon-Brand-Solimo-Premium-Raisins%2Fdp%2FB01LPYAB9O%2Fref%3Dsr_1_23_sspa%3Fcrid%3D7V7W578SEJN%26dchild%3D1%26keywords%3Dgrocery%26qid%3D1606467732%26sprefix%3Dgroce%252Caps%252C322%26sr%3D8-23-spons%26psc%3D1&qualifier=1606467732&id=8933728630416195&widgetName=sp_mtf',\n",
       " '/gp/slredirect/picassoRedirect.html/ref=pa_sp_mtf_aps_sr_pg1_1?ie=UTF8&adId=A03617502GIKUGR7YH8OK&url=%2FSunfeast-YiPPee-Noodles-Vegetables-nutrients%2Fdp%2FB08BMSXQ2T%2Fref%3Dsr_1_24_sspa%3Fcrid%3D7V7W578SEJN%26dchild%3D1%26keywords%3Dgrocery%26qid%3D1606467732%26sprefix%3Dgroce%252Caps%252C322%26sr%3D8-24-spons%26psc%3D1&qualifier=1606467732&id=8933728630416195&widgetName=sp_mtf',\n",
       " '/Sanifresh-Toilet-Cleaner-Odonil-Freshener/dp/B01CJUIPWS/ref=sr_1_25?crid=7V7W578SEJN&dchild=1&keywords=grocery&qid=1606467732&s=pantry&sprefix=groce%2Caps%2C322&sr=8-25',\n",
       " '/gp/bestsellers/grocery/4860257031/ref=sr_bs_25_4860257031_1',\n",
       " '/Aashirvaad-Superior-Atta-Bag-10kg/dp/B01GCFBG3G/ref=sr_1_27?crid=7V7W578SEJN&dchild=1&keywords=grocery&qid=1606467732&s=pantry&sprefix=groce%2Caps%2C322&sr=8-27',\n",
       " '/Scotch-Brite%C2%AE-Scrub-Small-Steel-Combo/dp/B01M1E0GDZ/ref=sr_1_28?crid=7V7W578SEJN&dchild=1&keywords=grocery&qid=1606467732&s=pantry&sprefix=groce%2Caps%2C322&sr=8-28',\n",
       " '/Colgate-Maxfresh-Spicy-Fresh-Toothpaste/dp/B0755JFM1Y/ref=sr_1_29?crid=7V7W578SEJN&dchild=1&keywords=grocery&qid=1606467732&s=pantry&sprefix=groce%2Caps%2C322&sr=8-29',\n",
       " '/Parachute-Coconut-Oil-1-L/dp/B003NQESIS/ref=sr_1_30_mod_primary_new?crid=7V7W578SEJN&dchild=1&keywords=grocery&qid=1606467732&sbo=RZvfv%2F%2FHxDF%2BO5021pAnSA%3D%3D&sprefix=groce%2Caps%2C322&sr=8-30',\n",
       " '/Groceries-Everyday-Books-Harry-Adams/dp/0304921270/ref=sr_1_31?crid=7V7W578SEJN&dchild=1&keywords=grocery&qid=1606467732&sprefix=groce%2Caps%2C322&sr=8-31',\n",
       " '/Amazon-Brand-Vedaka-Sabudana-Medium/dp/B07M91256V/ref=sr_1_32?almBrandId=ctnow&crid=7V7W578SEJN&dchild=1&fpw=alm&keywords=grocery&qid=1606467732&sprefix=groce%2Caps%2C322&sr=8-32',\n",
       " '/Fortune-Sunlite-Refined-Sunflower-Oil/dp/B01GCE6PC4/ref=sr_1_33?crid=7V7W578SEJN&dchild=1&keywords=grocery&qid=1606467732&s=pantry&sprefix=groce%2Caps%2C322&sr=8-33',\n",
       " '/2Mech-Container-airtight-Transparent-4-Section/dp/B0867L3QBD/ref=sr_1_34?crid=7V7W578SEJN&dchild=1&keywords=grocery&qid=1606467732&sprefix=groce%2Caps%2C322&sr=8-34',\n",
       " '/Grocery-House-Sugar-Layer-Dried/dp/B08LXRMCJJ/ref=sr_1_35?crid=7V7W578SEJN&dchild=1&keywords=grocery&qid=1606467732&sprefix=groce%2Caps%2C322&sr=8-35',\n",
       " '/CSM-Jute-Lunch-Shopping-Grocery/dp/B078KWLK62/ref=sr_1_36?crid=7V7W578SEJN&dchild=1&keywords=grocery&qid=1606467732&sprefix=groce%2Caps%2C322&sr=8-36',\n",
       " '/Santoor-Sandal-Turmeric-Soap-125g/dp/B006L7Q3OS/ref=sr_1_37_mod_primary_new?crid=7V7W578SEJN&dchild=1&keywords=grocery&qid=1606467732&sbo=RZvfv%2F%2FHxDF%2BO5021pAnSA%3D%3D&sprefix=groce%2Caps%2C322&sr=8-37',\n",
       " '/Fresh-Passion-Fruit-1kg/dp/B07BG79ZCG/ref=sr_1_38?almBrandId=ctnow&crid=7V7W578SEJN&dchild=1&fpw=alm&keywords=grocery&qid=1606467732&sprefix=groce%2Caps%2C322&sr=8-38',\n",
       " '/gp/bestsellers/grocery/5118858031/ref=sr_bs_38_5118858031_1',\n",
       " '/Rajbhog-Regular-Gorgon-Puffed-Makhana/dp/B07574Z1NF/ref=sr_1_40?crid=7V7W578SEJN&dchild=1&keywords=grocery&qid=1606467732&sprefix=groce%2Caps%2C322&sr=8-40',\n",
       " '/Grocery-House-Home-Gatagat-Candy/dp/B08LNJP31T/ref=sr_1_41?crid=7V7W578SEJN&dchild=1&keywords=grocery&qid=1606467732&sprefix=groce%2Caps%2C322&sr=8-41',\n",
       " '/Groceries-Quick-Easy-Saving-Money-ebook/dp/B00KUBQ0JY/ref=sr_1_42?crid=7V7W578SEJN&dchild=1&keywords=grocery&qid=1606467732&sprefix=groce%2Caps%2C322&sr=8-42',\n",
       " '/Fresh-Papaya-1-Piece/dp/B07BG526NC/ref=sr_1_43?almBrandId=ctnow&crid=7V7W578SEJN&dchild=1&fpw=alm&keywords=grocery&qid=1606467732&sprefix=groce%2Caps%2C322&sr=8-43',\n",
       " '/Grocery-Vala-Anjeer-Dried-Figs/dp/B08DV9WC5N/ref=sr_1_44?crid=7V7W578SEJN&dchild=1&keywords=grocery&qid=1606467732&sprefix=groce%2Caps%2C322&sr=8-44',\n",
       " '/ASOP-Chana-Dal-Economy-1Kg/dp/B0851T2C6R/ref=sr_1_45?crid=7V7W578SEJN&dchild=1&keywords=grocery&qid=1606467732&s=pantry&sprefix=groce%2Caps%2C322&sr=8-45',\n",
       " '/JAPP-Vegetable-Noodles-Washing-Strainer/dp/B06XQX7Z8S/ref=sr_1_46?crid=7V7W578SEJN&dchild=1&keywords=grocery&qid=1606467732&sprefix=groce%2Caps%2C322&sr=8-46',\n",
       " '/SimpArte-Plastic-Grocery-Container-17-Pieces/dp/B07PYRWFDZ/ref=sr_1_47?crid=7V7W578SEJN&dchild=1&keywords=grocery&qid=1606467732&sprefix=groce%2Caps%2C322&sr=8-47',\n",
       " '/Vedaka-Poha-Avalakki-Flattened-Medium/dp/B07HTSP64S/ref=sr_1_48?almBrandId=ctnow&crid=7V7W578SEJN&dchild=1&fpw=alm&keywords=grocery&qid=1606467732&sprefix=groce%2Caps%2C322&sr=8-48',\n",
       " '/Groceries-Them-Good-Reason-Compilation/dp/0595003192/ref=sr_1_49?crid=7V7W578SEJN&dchild=1&keywords=grocery&qid=1606467732&sprefix=groce%2Caps%2C322&sr=8-49',\n",
       " '/Fresh-Onion-1kg-Pack/dp/B07BG62MBV/ref=sr_1_50?almBrandId=ctnow&crid=7V7W578SEJN&dchild=1&fpw=alm&keywords=grocery&qid=1606467732&sprefix=groce%2Caps%2C322&sr=8-50',\n",
       " '/ADDCART-Polyester-Traveling-Vegetable-Clothing/dp/B08LFYMFWY/ref=sr_1_51?crid=7V7W578SEJN&dchild=1&keywords=grocery&qid=1606467732&sprefix=groce%2Caps%2C322&sr=8-51',\n",
       " '/Amazon-Brand-Vedaka-Flour-Besan/dp/B07FH8B7SM/ref=sr_1_52?almBrandId=ctnow&crid=7V7W578SEJN&dchild=1&fpw=alm&keywords=grocery&qid=1606467732&sprefix=groce%2Caps%2C322&sr=8-52',\n",
       " '/Fresh-Cauliflower-500g/dp/B07NYYPLHQ/ref=sr_1_53?almBrandId=ctnow&crid=7V7W578SEJN&dchild=1&fpw=alm&keywords=grocery&qid=1606467732&sprefix=groce%2Caps%2C322&sr=8-53',\n",
       " '/Grocery-House-Butterscotch-Chips-Grams/dp/B08ML8ZNBR/ref=sr_1_54?crid=7V7W578SEJN&dchild=1&keywords=grocery&qid=1606467732&sprefix=groce%2Caps%2C322&sr=8-54',\n",
       " '/Fresh-Banana-Yelakki-500-g/dp/B07NXZWCX7/ref=sr_1_55_mod_primary_alm?almBrandId=More&crid=7V7W578SEJN&dchild=1&fpw=alm&keywords=grocery&qid=1606467732&sbo=m6DjfpMzMLDmL8pSMKX8hw%3D%3D&sprefix=groce%2Caps%2C322&sr=8-55',\n",
       " '/Sunfeast-Moms-Magic-Cashew-Almond/dp/B07Q7L6SRG/ref=sr_1_56?crid=7V7W578SEJN&dchild=1&keywords=grocery&qid=1606467732&s=pantry&sprefix=groce%2Caps%2C322&sr=8-56',\n",
       " '/gp/slredirect/picassoRedirect.html/ref=pa_sp_btf_aps_sr_pg1_1?ie=UTF8&adId=A0057350153R5D5ETQD1U&url=%2FSurkh-Saffron-Premium-Natural-Untouched%2Fdp%2FB083XVPQ5J%2Fref%3Dsr_1_57_sspa%3Fcrid%3D7V7W578SEJN%26dchild%3D1%26keywords%3Dgrocery%26qid%3D1606467732%26sprefix%3Dgroce%252Caps%252C322%26sr%3D8-57-spons%26psc%3D1&qualifier=1606467732&id=8933728630416195&widgetName=sp_btf',\n",
       " '/gp/slredirect/picassoRedirect.html/ref=pa_sp_btf_aps_sr_pg1_1?ie=UTF8&adId=A0161459FBICUXXAAPF3&url=%2FAmazon-Brand-Vedaka-Popular-Raisins%2Fdp%2FB07GR82XJR%2Fref%3Dsr_1_58_sspa%3Fcrid%3D7V7W578SEJN%26dchild%3D1%26keywords%3Dgrocery%26qid%3D1606467732%26sprefix%3Dgroce%252Caps%252C322%26sr%3D8-58-spons%26psc%3D1&qualifier=1606467732&id=8933728630416195&widgetName=sp_btf',\n",
       " '/gp/slredirect/picassoRedirect.html/ref=pa_sp_btf_aps_sr_pg1_1?ie=UTF8&adId=A02926333U54WZUNSHB08&url=%2FAmazon-Brand-Vedaka-Popular-Raisins%2Fdp%2FB07GR3S1RR%2Fref%3Dsr_1_59_sspa%3Fcrid%3D7V7W578SEJN%26dchild%3D1%26keywords%3Dgrocery%26qid%3D1606467732%26smid%3DAT95IG9ONZD7S%26sprefix%3Dgroce%252Caps%252C322%26sr%3D8-59-spons%26psc%3D1&qualifier=1606467732&id=8933728630416195&widgetName=sp_btf',\n",
       " '/gp/slredirect/picassoRedirect.html/ref=pa_sp_btf_aps_sr_pg1_1?ie=UTF8&adId=A0095640AKCFRZQ6ZBMD&url=%2FSHRILALMAHAL-Elite-Aroma-Whole-Cardamom%2Fdp%2FB08CGV2L56%2Fref%3Dsr_1_60_sspa%3Fcrid%3D7V7W578SEJN%26dchild%3D1%26keywords%3Dgrocery%26qid%3D1606467732%26sprefix%3Dgroce%252Caps%252C322%26sr%3D8-60-spons%26psc%3D1&qualifier=1606467732&id=8933728630416195&widgetName=sp_btf',\n",
       " '/s/?k=grocery+items+all+offers&ref=sugsr_0&pd_rd_w=SFfnL&pf_rd_p=e98d1fad-4664-4b4d-a930-8932601ebadf&pf_rd_r=GCSZMM0374TWTX0N4GXB&pd_rd_r=2484d953-bbf2-44fb-ae11-3190d16022a1&pd_rd_wg=6FXXP&qid=1606467732',\n",
       " '/s/?k=grocery+items+all+offers&ref=sugsr_0&pd_rd_w=SFfnL&pf_rd_p=e98d1fad-4664-4b4d-a930-8932601ebadf&pf_rd_r=GCSZMM0374TWTX0N4GXB&pd_rd_r=2484d953-bbf2-44fb-ae11-3190d16022a1&pd_rd_wg=6FXXP&qid=1606467732',\n",
       " '/s/?k=grocery+items+all+offers&ref=sugsr_0&pd_rd_w=SFfnL&pf_rd_p=e98d1fad-4664-4b4d-a930-8932601ebadf&pf_rd_r=GCSZMM0374TWTX0N4GXB&pd_rd_r=2484d953-bbf2-44fb-ae11-3190d16022a1&pd_rd_wg=6FXXP&qid=1606467732',\n",
       " '/s/?k=grocery+items+in+kitchen&ref=sugsr_1&pd_rd_w=SFfnL&pf_rd_p=e98d1fad-4664-4b4d-a930-8932601ebadf&pf_rd_r=GCSZMM0374TWTX0N4GXB&pd_rd_r=2484d953-bbf2-44fb-ae11-3190d16022a1&pd_rd_wg=6FXXP&qid=1606467732',\n",
       " '/s/?k=grocery+items+all+food&ref=sugsr_2&pd_rd_w=SFfnL&pf_rd_p=e98d1fad-4664-4b4d-a930-8932601ebadf&pf_rd_r=GCSZMM0374TWTX0N4GXB&pd_rd_r=2484d953-bbf2-44fb-ae11-3190d16022a1&pd_rd_wg=6FXXP&qid=1606467732',\n",
       " '/s/?k=grocery+items+all+offers+today&ref=sugsr_3&pd_rd_w=SFfnL&pf_rd_p=e98d1fad-4664-4b4d-a930-8932601ebadf&pf_rd_r=GCSZMM0374TWTX0N4GXB&pd_rd_r=2484d953-bbf2-44fb-ae11-3190d16022a1&pd_rd_wg=6FXXP&qid=1606467732',\n",
       " '/gp/help/customer/display.html?nodeId=200533820']"
      ]
     },
     "execution_count": 263,
     "metadata": {},
     "output_type": "execute_result"
    }
   ],
   "source": [
    "li\n"
   ]
  },
  {
   "cell_type": "code",
   "execution_count": 282,
   "metadata": {},
   "outputs": [],
   "source": [
    "final = []\n",
    "for i in li:\n",
    "    if i[:3]=='/gp' or i[:3]=='/s/' or i[:3]=='/os' or i[:3]==\"/st\" or i=='#':\n",
    "        continue\n",
    "    else:\n",
    "        a = 'http://www.amazon.in'+i+'?'\n",
    "        final.append(a)"
   ]
  },
  {
   "cell_type": "code",
   "execution_count": 284,
   "metadata": {},
   "outputs": [
    {
     "data": {
      "text/plain": [
       "44"
      ]
     },
     "execution_count": 284,
     "metadata": {},
     "output_type": "execute_result"
    }
   ],
   "source": [
    "len(final)\n"
   ]
  },
  {
   "cell_type": "code",
   "execution_count": 266,
   "metadata": {},
   "outputs": [],
   "source": [
    "d = {'title':[],'price':[],'desc':[],'details':[],'review':[],'pic':[]}\n"
   ]
  },
  {
   "cell_type": "code",
   "execution_count": 424,
   "metadata": {},
   "outputs": [],
   "source": [
    "\n",
    "for i in range(44,len(final)):\n",
    "    print(i)\n",
    "    url = final[i]\n",
    "    var = requests.get(url)\n",
    "    driver = webdriver.Chrome('chromedriver.exe')\n",
    "    driver.get(url)\n",
    "    SCROLL_PAUSE_TIME = 0.5\n",
    "    last_height = driver.execute_script(\"return document.body.scrollHeight\")\n",
    "\n",
    "    while True:\n",
    "        # Scroll down to bottom\n",
    "        driver.execute_script(\"window.scrollTo(0, document.body.scrollHeight);\")\n",
    "\n",
    "        # Wait to load page\n",
    "        time.sleep(SCROLL_PAUSE_TIME)\n",
    "\n",
    "        # Calculate new scroll height and compare with last scroll height\n",
    "        new_height = driver.execute_script(\"return document.body.scrollHeight\")\n",
    "        if new_height == last_height:\n",
    "            break\n",
    "        last_height = new_height\n",
    "    time.sleep(2)\n",
    "    title = driver.find_element_by_xpath('/html/body/div[2]/div[2]/div[4]/div[5]/div[4]/div[1]/div/h1/span')\n",
    "    title = title.get_attribute('innerHTML')\n",
    "    title = re.sub('\\n','',title)\n",
    "#     print(title)\n",
    "    d['title'].append(title)\n",
    "    price = driver.find_element_by_xpath('/html/body/div[2]/div[2]/div[4]/div[5]/div[4]/div[9]/div[1]/div/table/tbody/tr[2]/td[2]/span[1]')\n",
    "    price = price.get_attribute('innerHTML')\n",
    "    price = re.sub('&nbsp;','',price)\n",
    "#     print(price)\n",
    "    d['price'].append(price)\n",
    "#     desc = driver.find_element_by_xpath('/html/body/div[2]/div[2]/div[4]/div[7]/div[3]/div[1]/table/tbody')\n",
    "    desc = driver.find_element_by_xpath('/html/body/div[2]/div[2]/div[4]/div[5]/div[4]/div[34]/div/ul')\n",
    "    desc = desc.get_attribute('innerHTML')\n",
    "    soup = BeautifulSoup(desc)\n",
    "    description = []\n",
    "    for i in soup.find_all('li'):\n",
    "        v = re.sub('\\n','',i.text)\n",
    "        description.append(v)\n",
    "#     print(description)\n",
    "    d['desc'].append(description)\n",
    "#     details = driver.find_element_by_xpath('/html/body/div[2]/div[2]/div[4]/div[19]/div/div/div/div[1]/ul')\n",
    "    details = driver.find_element_by_xpath('/html/body/div[2]/div[2]/div[4]/div[13]/div/div/div/div/div[1]/div[1]/div/div[2]/div/div/table/tbody')\n",
    "    details = details.get_attribute('innerHTML')\n",
    "    soup = BeautifulSoup(details)\n",
    "    det=[]\n",
    "    for i in soup.find_all('tr'):\n",
    "    #     print(i.text)\n",
    "        v = re.sub('\\n','',i.text)\n",
    "        det.append(v)\n",
    "#     print(det)\n",
    "    d['details'].append(det)\n",
    "    try:\n",
    "        \n",
    "        review = driver.find_element_by_xpath('/html/body/div[2]/div[2]/div[4]/div[30]/div/div[1]/div[2]/div[1]/div/div[2]/div/span/span')\n",
    "        review = review.get_attribute('innerHTML')\n",
    "    #     print(review)\n",
    "\n",
    "        d['review'].append(review)\n",
    "#         print(review)\n",
    "    except:\n",
    "        d['review'].append('Nan')\n",
    "#         print('error')\n",
    "    pic = driver.find_element_by_xpath('/html/body/div[2]/div[2]/div[4]/div[5]/div[3]/div/div[1]/div/div/div[2]/div[1]/div[1]/ul/li[1]/span/span/div/img')\n",
    "    pic = pic.get_attribute('src')\n",
    "#     print(pic)\n",
    "    d['pic'].append(pic)\n",
    "    print(i)\n",
    "    driver.close()\n",
    "\n",
    "  "
   ]
  },
  {
   "cell_type": "code",
   "execution_count": 425,
   "metadata": {},
   "outputs": [
    {
     "name": "stdout",
     "output_type": "stream",
     "text": [
      "20\n",
      "20\n",
      "20\n",
      "20\n",
      "20\n",
      "20\n"
     ]
    }
   ],
   "source": [
    "for v in d.values():\n",
    "    print(len(v))"
   ]
  },
  {
   "cell_type": "code",
   "execution_count": 423,
   "metadata": {},
   "outputs": [
    {
     "ename": "NoSuchElementException",
     "evalue": "Message: no such element: Unable to locate element: {\"method\":\"xpath\",\"selector\":\"/html/body/div[2]/div[2]/div[4]/div[6]/div[4]/div[1]/div/h1/span\"}\n  (Session info: chrome=87.0.4280.66)\n",
     "output_type": "error",
     "traceback": [
      "\u001b[1;31m---------------------------------------------------------------------------\u001b[0m",
      "\u001b[1;31mNoSuchElementException\u001b[0m                    Traceback (most recent call last)",
      "\u001b[1;32m<ipython-input-423-04beeadbf4ed>\u001b[0m in \u001b[0;36m<module>\u001b[1;34m\u001b[0m\n\u001b[1;32m----> 1\u001b[1;33m \u001b[0mtitle\u001b[0m \u001b[1;33m=\u001b[0m \u001b[0mdriver\u001b[0m\u001b[1;33m.\u001b[0m\u001b[0mfind_element_by_xpath\u001b[0m\u001b[1;33m(\u001b[0m\u001b[1;34m'/html/body/div[2]/div[2]/div[4]/div[6]/div[4]/div[1]/div/h1/span'\u001b[0m\u001b[1;33m)\u001b[0m\u001b[1;33m\u001b[0m\u001b[1;33m\u001b[0m\u001b[0m\n\u001b[0m\u001b[0;32m      2\u001b[0m \u001b[0mtitle\u001b[0m \u001b[1;33m=\u001b[0m \u001b[0mtitle\u001b[0m\u001b[1;33m.\u001b[0m\u001b[0mget_attribute\u001b[0m\u001b[1;33m(\u001b[0m\u001b[1;34m'innerHTML'\u001b[0m\u001b[1;33m)\u001b[0m\u001b[1;33m\u001b[0m\u001b[1;33m\u001b[0m\u001b[0m\n\u001b[0;32m      3\u001b[0m \u001b[0mtitle\u001b[0m \u001b[1;33m=\u001b[0m \u001b[0mre\u001b[0m\u001b[1;33m.\u001b[0m\u001b[0msub\u001b[0m\u001b[1;33m(\u001b[0m\u001b[1;34m'\\n'\u001b[0m\u001b[1;33m,\u001b[0m\u001b[1;34m''\u001b[0m\u001b[1;33m,\u001b[0m\u001b[0mtitle\u001b[0m\u001b[1;33m)\u001b[0m\u001b[1;33m\u001b[0m\u001b[1;33m\u001b[0m\u001b[0m\n\u001b[0;32m      4\u001b[0m \u001b[0mprint\u001b[0m\u001b[1;33m(\u001b[0m\u001b[0mtitle\u001b[0m\u001b[1;33m)\u001b[0m\u001b[1;33m\u001b[0m\u001b[1;33m\u001b[0m\u001b[0m\n\u001b[0;32m      5\u001b[0m \u001b[0md\u001b[0m\u001b[1;33m[\u001b[0m\u001b[1;34m'title'\u001b[0m\u001b[1;33m]\u001b[0m\u001b[1;33m.\u001b[0m\u001b[0mappend\u001b[0m\u001b[1;33m(\u001b[0m\u001b[0mtitle\u001b[0m\u001b[1;33m)\u001b[0m\u001b[1;33m\u001b[0m\u001b[1;33m\u001b[0m\u001b[0m\n",
      "\u001b[1;32m~\\Anaconda3\\lib\\site-packages\\selenium\\webdriver\\remote\\webdriver.py\u001b[0m in \u001b[0;36mfind_element_by_xpath\u001b[1;34m(self, xpath)\u001b[0m\n\u001b[0;32m    392\u001b[0m             \u001b[0melement\u001b[0m \u001b[1;33m=\u001b[0m \u001b[0mdriver\u001b[0m\u001b[1;33m.\u001b[0m\u001b[0mfind_element_by_xpath\u001b[0m\u001b[1;33m(\u001b[0m\u001b[1;34m'//div/td[1]'\u001b[0m\u001b[1;33m)\u001b[0m\u001b[1;33m\u001b[0m\u001b[1;33m\u001b[0m\u001b[0m\n\u001b[0;32m    393\u001b[0m         \"\"\"\n\u001b[1;32m--> 394\u001b[1;33m         \u001b[1;32mreturn\u001b[0m \u001b[0mself\u001b[0m\u001b[1;33m.\u001b[0m\u001b[0mfind_element\u001b[0m\u001b[1;33m(\u001b[0m\u001b[0mby\u001b[0m\u001b[1;33m=\u001b[0m\u001b[0mBy\u001b[0m\u001b[1;33m.\u001b[0m\u001b[0mXPATH\u001b[0m\u001b[1;33m,\u001b[0m \u001b[0mvalue\u001b[0m\u001b[1;33m=\u001b[0m\u001b[0mxpath\u001b[0m\u001b[1;33m)\u001b[0m\u001b[1;33m\u001b[0m\u001b[1;33m\u001b[0m\u001b[0m\n\u001b[0m\u001b[0;32m    395\u001b[0m \u001b[1;33m\u001b[0m\u001b[0m\n\u001b[0;32m    396\u001b[0m     \u001b[1;32mdef\u001b[0m \u001b[0mfind_elements_by_xpath\u001b[0m\u001b[1;33m(\u001b[0m\u001b[0mself\u001b[0m\u001b[1;33m,\u001b[0m \u001b[0mxpath\u001b[0m\u001b[1;33m)\u001b[0m\u001b[1;33m:\u001b[0m\u001b[1;33m\u001b[0m\u001b[1;33m\u001b[0m\u001b[0m\n",
      "\u001b[1;32m~\\Anaconda3\\lib\\site-packages\\selenium\\webdriver\\remote\\webdriver.py\u001b[0m in \u001b[0;36mfind_element\u001b[1;34m(self, by, value)\u001b[0m\n\u001b[0;32m    976\u001b[0m         return self.execute(Command.FIND_ELEMENT, {\n\u001b[0;32m    977\u001b[0m             \u001b[1;34m'using'\u001b[0m\u001b[1;33m:\u001b[0m \u001b[0mby\u001b[0m\u001b[1;33m,\u001b[0m\u001b[1;33m\u001b[0m\u001b[1;33m\u001b[0m\u001b[0m\n\u001b[1;32m--> 978\u001b[1;33m             'value': value})['value']\n\u001b[0m\u001b[0;32m    979\u001b[0m \u001b[1;33m\u001b[0m\u001b[0m\n\u001b[0;32m    980\u001b[0m     \u001b[1;32mdef\u001b[0m \u001b[0mfind_elements\u001b[0m\u001b[1;33m(\u001b[0m\u001b[0mself\u001b[0m\u001b[1;33m,\u001b[0m \u001b[0mby\u001b[0m\u001b[1;33m=\u001b[0m\u001b[0mBy\u001b[0m\u001b[1;33m.\u001b[0m\u001b[0mID\u001b[0m\u001b[1;33m,\u001b[0m \u001b[0mvalue\u001b[0m\u001b[1;33m=\u001b[0m\u001b[1;32mNone\u001b[0m\u001b[1;33m)\u001b[0m\u001b[1;33m:\u001b[0m\u001b[1;33m\u001b[0m\u001b[1;33m\u001b[0m\u001b[0m\n",
      "\u001b[1;32m~\\Anaconda3\\lib\\site-packages\\selenium\\webdriver\\remote\\webdriver.py\u001b[0m in \u001b[0;36mexecute\u001b[1;34m(self, driver_command, params)\u001b[0m\n\u001b[0;32m    319\u001b[0m         \u001b[0mresponse\u001b[0m \u001b[1;33m=\u001b[0m \u001b[0mself\u001b[0m\u001b[1;33m.\u001b[0m\u001b[0mcommand_executor\u001b[0m\u001b[1;33m.\u001b[0m\u001b[0mexecute\u001b[0m\u001b[1;33m(\u001b[0m\u001b[0mdriver_command\u001b[0m\u001b[1;33m,\u001b[0m \u001b[0mparams\u001b[0m\u001b[1;33m)\u001b[0m\u001b[1;33m\u001b[0m\u001b[1;33m\u001b[0m\u001b[0m\n\u001b[0;32m    320\u001b[0m         \u001b[1;32mif\u001b[0m \u001b[0mresponse\u001b[0m\u001b[1;33m:\u001b[0m\u001b[1;33m\u001b[0m\u001b[1;33m\u001b[0m\u001b[0m\n\u001b[1;32m--> 321\u001b[1;33m             \u001b[0mself\u001b[0m\u001b[1;33m.\u001b[0m\u001b[0merror_handler\u001b[0m\u001b[1;33m.\u001b[0m\u001b[0mcheck_response\u001b[0m\u001b[1;33m(\u001b[0m\u001b[0mresponse\u001b[0m\u001b[1;33m)\u001b[0m\u001b[1;33m\u001b[0m\u001b[1;33m\u001b[0m\u001b[0m\n\u001b[0m\u001b[0;32m    322\u001b[0m             response['value'] = self._unwrap_value(\n\u001b[0;32m    323\u001b[0m                 response.get('value', None))\n",
      "\u001b[1;32m~\\Anaconda3\\lib\\site-packages\\selenium\\webdriver\\remote\\errorhandler.py\u001b[0m in \u001b[0;36mcheck_response\u001b[1;34m(self, response)\u001b[0m\n\u001b[0;32m    240\u001b[0m                 \u001b[0malert_text\u001b[0m \u001b[1;33m=\u001b[0m \u001b[0mvalue\u001b[0m\u001b[1;33m[\u001b[0m\u001b[1;34m'alert'\u001b[0m\u001b[1;33m]\u001b[0m\u001b[1;33m.\u001b[0m\u001b[0mget\u001b[0m\u001b[1;33m(\u001b[0m\u001b[1;34m'text'\u001b[0m\u001b[1;33m)\u001b[0m\u001b[1;33m\u001b[0m\u001b[1;33m\u001b[0m\u001b[0m\n\u001b[0;32m    241\u001b[0m             \u001b[1;32mraise\u001b[0m \u001b[0mexception_class\u001b[0m\u001b[1;33m(\u001b[0m\u001b[0mmessage\u001b[0m\u001b[1;33m,\u001b[0m \u001b[0mscreen\u001b[0m\u001b[1;33m,\u001b[0m \u001b[0mstacktrace\u001b[0m\u001b[1;33m,\u001b[0m \u001b[0malert_text\u001b[0m\u001b[1;33m)\u001b[0m\u001b[1;33m\u001b[0m\u001b[1;33m\u001b[0m\u001b[0m\n\u001b[1;32m--> 242\u001b[1;33m         \u001b[1;32mraise\u001b[0m \u001b[0mexception_class\u001b[0m\u001b[1;33m(\u001b[0m\u001b[0mmessage\u001b[0m\u001b[1;33m,\u001b[0m \u001b[0mscreen\u001b[0m\u001b[1;33m,\u001b[0m \u001b[0mstacktrace\u001b[0m\u001b[1;33m)\u001b[0m\u001b[1;33m\u001b[0m\u001b[1;33m\u001b[0m\u001b[0m\n\u001b[0m\u001b[0;32m    243\u001b[0m \u001b[1;33m\u001b[0m\u001b[0m\n\u001b[0;32m    244\u001b[0m     \u001b[1;32mdef\u001b[0m \u001b[0m_value_or_default\u001b[0m\u001b[1;33m(\u001b[0m\u001b[0mself\u001b[0m\u001b[1;33m,\u001b[0m \u001b[0mobj\u001b[0m\u001b[1;33m,\u001b[0m \u001b[0mkey\u001b[0m\u001b[1;33m,\u001b[0m \u001b[0mdefault\u001b[0m\u001b[1;33m)\u001b[0m\u001b[1;33m:\u001b[0m\u001b[1;33m\u001b[0m\u001b[1;33m\u001b[0m\u001b[0m\n",
      "\u001b[1;31mNoSuchElementException\u001b[0m: Message: no such element: Unable to locate element: {\"method\":\"xpath\",\"selector\":\"/html/body/div[2]/div[2]/div[4]/div[6]/div[4]/div[1]/div/h1/span\"}\n  (Session info: chrome=87.0.4280.66)\n"
     ]
    }
   ],
   "source": [
    "\n",
    "title = driver.find_element_by_xpath('/html/body/div[2]/div[2]/div[4]/div[6]/div[4]/div[1]/div/h1/span')\n",
    "title = title.get_attribute('innerHTML')\n",
    "title = re.sub('\\n','',title)\n",
    "print(title)\n",
    "d['title'].append(title)"
   ]
  },
  {
   "cell_type": "code",
   "execution_count": 371,
   "metadata": {},
   "outputs": [],
   "source": [
    "price = driver.find_element_by_xpath('/html/body/div[2]/div[2]/div[4]/div[6]/div[4]/div[9]/div[1]/div/table/tbody/tr[1]/td[2]/span[1]')\n",
    "price = price.get_attribute('innerHTML')\n",
    "price = re.sub('&nbsp;','',price)\n",
    "#     print(price)\n",
    "d['price'].append(price)"
   ]
  },
  {
   "cell_type": "code",
   "execution_count": 406,
   "metadata": {},
   "outputs": [],
   "source": [
    "desc = driver.find_element_by_xpath('/html/body/div[2]/div[2]/div[4]/div[5]/div[4]/div[37]/div/ul')\n",
    "desc = desc.get_attribute('innerHTML')\n",
    "soup = BeautifulSoup(desc)\n",
    "description = []\n",
    "for i in soup.find_all('li'):\n",
    "    v = re.sub('\\n','',i.text)\n",
    "    description.append(v)\n",
    "#     print(description)\n",
    "d['desc'].append(description)"
   ]
  },
  {
   "cell_type": "code",
   "execution_count": 410,
   "metadata": {},
   "outputs": [
    {
     "name": "stdout",
     "output_type": "stream",
     "text": [
      "['Product Dimensions:28.5 x 15 x 16.5 cm; 809 Grams', 'Date First Available:21 March 2019', 'Manufacturer:Cutting EDGE Pvt. Ltd', 'ASIN:B07PYRWFDZ', 'Item model number:SIMPSTRG17NWSBL', 'Country of Origin:India', 'Manufacturer:Cutting EDGE Pvt. Ltd, Cutting EDGE Pvt. Ltd- B-2 DEVASANDRA INDUSTRIAL ESTATE, WHITEFIELD RD, MAHADEVAPURA, BANGALORE - 560048', 'Packer:Cutting EDGE Pvt. Ltd- B-2 DEVASANDRA INDUSTRIAL ESTATE, WHITEFIELD RD, MAHADEVAPURA, BANGALORE - 560048', 'Item Weight:809 g', 'Item Dimensions LxWxH:28.5 x 15 x 16.5 Centimeters', 'Net Quantity:17 numbers', 'Included Components:Set of 17 Containers [2 x 1000ML, 2x750ML, 3x500ML, 3x250ML, 7x125ML] - 6625 ML Total Capacity', 'Generic Name:Container']\n"
     ]
    }
   ],
   "source": [
    "details = driver.find_element_by_xpath('/html/body/div[2]/div[2]/div[4]/div[23]/div/div/div/div[1]/ul')\n",
    "# details = driver.find_element_by_xpath('/html/body/div[2]/div[2]/div[4]/div[19]/div/div/div/div[1]/ul')\n",
    "details = details.get_attribute('innerHTML')\n",
    "soup = BeautifulSoup(details)\n",
    "det=[]\n",
    "for i in soup.find_all('li'):\n",
    "#     print(i.text)\n",
    "    v = re.sub('\\n','',i.text)\n",
    "    det.append(v)\n",
    "print(det)\n",
    "d['details'].append(det)"
   ]
  },
  {
   "cell_type": "code",
   "execution_count": 412,
   "metadata": {},
   "outputs": [],
   "source": [
    "review = driver.find_element_by_xpath('/html/body/div[2]/div[2]/div[4]/div[39]/div/div[1]/div[2]/div[1]/div/div[2]/div/span/span')\n",
    "review = review.get_attribute('innerHTML')\n",
    "#     print(review)\n",
    "\n",
    "d['review'].append(review)\n",
    "# d['review'].append('Nan')"
   ]
  },
  {
   "cell_type": "code",
   "execution_count": 413,
   "metadata": {},
   "outputs": [
    {
     "name": "stdout",
     "output_type": "stream",
     "text": [
      "https://images-na.ssl-images-amazon.com/images/I/71qb3HH8W6L._SX522_.jpg\n"
     ]
    }
   ],
   "source": [
    "pic = driver.find_element_by_xpath('/html/body/div[2]/div[2]/div[4]/div[5]/div[3]/div/div[1]/div/div/div[2]/div[1]/div[1]/ul/li[1]/span/span/div/img')\n",
    "pic = pic.get_attribute('src')\n",
    "print(pic)\n",
    "d['pic'].append(pic)\n"
   ]
  },
  {
   "cell_type": "code",
   "execution_count": 229,
   "metadata": {},
   "outputs": [],
   "source": [
    "import pandas as pd"
   ]
  },
  {
   "cell_type": "code",
   "execution_count": 426,
   "metadata": {},
   "outputs": [],
   "source": [
    "df = pd.DataFrame.from_dict(d)"
   ]
  },
  {
   "cell_type": "code",
   "execution_count": 427,
   "metadata": {},
   "outputs": [
    {
     "data": {
      "text/html": [
       "<div>\n",
       "<style scoped>\n",
       "    .dataframe tbody tr th:only-of-type {\n",
       "        vertical-align: middle;\n",
       "    }\n",
       "\n",
       "    .dataframe tbody tr th {\n",
       "        vertical-align: top;\n",
       "    }\n",
       "\n",
       "    .dataframe thead th {\n",
       "        text-align: right;\n",
       "    }\n",
       "</style>\n",
       "<table border=\"1\" class=\"dataframe\">\n",
       "  <thead>\n",
       "    <tr style=\"text-align: right;\">\n",
       "      <th></th>\n",
       "      <th>title</th>\n",
       "      <th>price</th>\n",
       "      <th>desc</th>\n",
       "      <th>details</th>\n",
       "      <th>review</th>\n",
       "      <th>pic</th>\n",
       "    </tr>\n",
       "  </thead>\n",
       "  <tbody>\n",
       "    <tr>\n",
       "      <td>0</td>\n",
       "      <td>Amazon Brand - Vedaka Thick Poha, 500g</td>\n",
       "      <td>₹41.00</td>\n",
       "      <td>[]</td>\n",
       "      <td>[Weight500 Grams, Ingredient TypeVegetarian, B...</td>\n",
       "      <td>4 out of 5</td>\n",
       "      <td>https://images-na.ssl-images-amazon.com/images...</td>\n",
       "    </tr>\n",
       "    <tr>\n",
       "      <td>1</td>\n",
       "      <td>Zandu Pure Honey, 500g</td>\n",
       "      <td>₹179.00</td>\n",
       "      <td>[100% guaranteed purity, 0% added sugar, no ad...</td>\n",
       "      <td>[SpecialtyNatural, Weight500 Grams, Ingredient...</td>\n",
       "      <td>4.2 out of 5</td>\n",
       "      <td>https://images-na.ssl-images-amazon.com/images...</td>\n",
       "    </tr>\n",
       "    <tr>\n",
       "      <td>2</td>\n",
       "      <td>Dabur Honey - World's No.1 Honey Brand - Squee...</td>\n",
       "      <td>₹270.00</td>\n",
       "      <td>[One tablespoon of Dabur honey with warm water...</td>\n",
       "      <td>[SpecialtyNatural, Weight800 Grams, Volume800 ...</td>\n",
       "      <td>4.3 out of 5</td>\n",
       "      <td>https://images-na.ssl-images-amazon.com/images...</td>\n",
       "    </tr>\n",
       "    <tr>\n",
       "      <td>3</td>\n",
       "      <td>Patanjali Honey, 1kg</td>\n",
       "      <td>Inclusive of all taxes</td>\n",
       "      <td>[Patanjali pure honey has lower prise and best...</td>\n",
       "      <td>[SpecialtyOrganic, Weight1000 Grams, Volume100...</td>\n",
       "      <td>4.2 out of 5</td>\n",
       "      <td>https://images-na.ssl-images-amazon.com/images...</td>\n",
       "    </tr>\n",
       "    <tr>\n",
       "      <td>4</td>\n",
       "      <td>Apis Himalaya Honey, 1kg (Buy 1 Get 1 Free)</td>\n",
       "      <td>Inclusive of all taxes</td>\n",
       "      <td>[An ISO22000 certification for documented proc...</td>\n",
       "      <td>[Weight2136 Grams, Ingredient TypeVegetarian, ...</td>\n",
       "      <td>4 out of 5</td>\n",
       "      <td>https://images-na.ssl-images-amazon.com/images...</td>\n",
       "    </tr>\n",
       "    <tr>\n",
       "      <td>5</td>\n",
       "      <td>Tulsi California Almonds Premium, 200g</td>\n",
       "      <td>Inclusive of all taxes</td>\n",
       "      <td>[100% Best quality product from the house of T...</td>\n",
       "      <td>[SpecialtyNo Artificial Flavors, Weight200 Gra...</td>\n",
       "      <td>4.2 out of 5</td>\n",
       "      <td>https://images-na.ssl-images-amazon.com/images...</td>\n",
       "    </tr>\n",
       "    <tr>\n",
       "      <td>6</td>\n",
       "      <td>Maggi 2-Minute Noodles Masala, 70g (Pack of 12)</td>\n",
       "      <td>₹130.00</td>\n",
       "      <td>[MAGGI 2-Minute Masala Noodles is an instant n...</td>\n",
       "      <td>[SpecialtyNatural, Weight840 Grams, Ingredient...</td>\n",
       "      <td>4.4 out of 5</td>\n",
       "      <td>https://images-na.ssl-images-amazon.com/images...</td>\n",
       "    </tr>\n",
       "    <tr>\n",
       "      <td>7</td>\n",
       "      <td>Surf Excel Easy Wash Detergent Powder, Fast Di...</td>\n",
       "      <td>₹180.00</td>\n",
       "      <td>[Surf excel Easy Wash has the power of 10 hand...</td>\n",
       "      <td>[Is Discontinued By Manufacturer:No, Product D...</td>\n",
       "      <td>4.4 out of 5</td>\n",
       "      <td>https://images-na.ssl-images-amazon.com/images...</td>\n",
       "    </tr>\n",
       "    <tr>\n",
       "      <td>8</td>\n",
       "      <td>Grocery House Orange Candy Narangi Flavour Kha...</td>\n",
       "      <td>₹139.00</td>\n",
       "      <td>[Treat yourself to the sweet and tangy outburs...</td>\n",
       "      <td>[Weight200 Grams, Ingredient TypeVegetarian, B...</td>\n",
       "      <td>4.5 out of 5</td>\n",
       "      <td>https://images-na.ssl-images-amazon.com/images...</td>\n",
       "    </tr>\n",
       "    <tr>\n",
       "      <td>9</td>\n",
       "      <td>Parachute 100 % Pure Coconut Oil, 1 L (Pet Jar)</td>\n",
       "      <td>₹380.00</td>\n",
       "      <td>[Nothing but 100% pure coconut oil, Made with ...</td>\n",
       "      <td>[Is Discontinued By Manufacturer:No, Product D...</td>\n",
       "      <td>&lt;span data-hook=\"rating-out-of-text\" class=\"a-...</td>\n",
       "      <td>https://images-na.ssl-images-amazon.com/images...</td>\n",
       "    </tr>\n",
       "  </tbody>\n",
       "</table>\n",
       "</div>"
      ],
      "text/plain": [
       "                                               title                    price  \\\n",
       "0             Amazon Brand - Vedaka Thick Poha, 500g                   ₹41.00   \n",
       "1                             Zandu Pure Honey, 500g                  ₹179.00   \n",
       "2  Dabur Honey - World's No.1 Honey Brand - Squee...                  ₹270.00   \n",
       "3                               Patanjali Honey, 1kg   Inclusive of all taxes   \n",
       "4        Apis Himalaya Honey, 1kg (Buy 1 Get 1 Free)   Inclusive of all taxes   \n",
       "5             Tulsi California Almonds Premium, 200g   Inclusive of all taxes   \n",
       "6    Maggi 2-Minute Noodles Masala, 70g (Pack of 12)                  ₹130.00   \n",
       "7  Surf Excel Easy Wash Detergent Powder, Fast Di...                  ₹180.00   \n",
       "8  Grocery House Orange Candy Narangi Flavour Kha...                  ₹139.00   \n",
       "9    Parachute 100 % Pure Coconut Oil, 1 L (Pet Jar)                  ₹380.00   \n",
       "\n",
       "                                                desc  \\\n",
       "0                                                 []   \n",
       "1  [100% guaranteed purity, 0% added sugar, no ad...   \n",
       "2  [One tablespoon of Dabur honey with warm water...   \n",
       "3  [Patanjali pure honey has lower prise and best...   \n",
       "4  [An ISO22000 certification for documented proc...   \n",
       "5  [100% Best quality product from the house of T...   \n",
       "6  [MAGGI 2-Minute Masala Noodles is an instant n...   \n",
       "7  [Surf excel Easy Wash has the power of 10 hand...   \n",
       "8  [Treat yourself to the sweet and tangy outburs...   \n",
       "9  [Nothing but 100% pure coconut oil, Made with ...   \n",
       "\n",
       "                                             details  \\\n",
       "0  [Weight500 Grams, Ingredient TypeVegetarian, B...   \n",
       "1  [SpecialtyNatural, Weight500 Grams, Ingredient...   \n",
       "2  [SpecialtyNatural, Weight800 Grams, Volume800 ...   \n",
       "3  [SpecialtyOrganic, Weight1000 Grams, Volume100...   \n",
       "4  [Weight2136 Grams, Ingredient TypeVegetarian, ...   \n",
       "5  [SpecialtyNo Artificial Flavors, Weight200 Gra...   \n",
       "6  [SpecialtyNatural, Weight840 Grams, Ingredient...   \n",
       "7  [Is Discontinued By Manufacturer:No, Product D...   \n",
       "8  [Weight200 Grams, Ingredient TypeVegetarian, B...   \n",
       "9  [Is Discontinued By Manufacturer:No, Product D...   \n",
       "\n",
       "                                              review  \\\n",
       "0                                         4 out of 5   \n",
       "1                                       4.2 out of 5   \n",
       "2                                       4.3 out of 5   \n",
       "3                                       4.2 out of 5   \n",
       "4                                         4 out of 5   \n",
       "5                                       4.2 out of 5   \n",
       "6                                       4.4 out of 5   \n",
       "7                                       4.4 out of 5   \n",
       "8                                       4.5 out of 5   \n",
       "9  <span data-hook=\"rating-out-of-text\" class=\"a-...   \n",
       "\n",
       "                                                 pic  \n",
       "0  https://images-na.ssl-images-amazon.com/images...  \n",
       "1  https://images-na.ssl-images-amazon.com/images...  \n",
       "2  https://images-na.ssl-images-amazon.com/images...  \n",
       "3  https://images-na.ssl-images-amazon.com/images...  \n",
       "4  https://images-na.ssl-images-amazon.com/images...  \n",
       "5  https://images-na.ssl-images-amazon.com/images...  \n",
       "6  https://images-na.ssl-images-amazon.com/images...  \n",
       "7  https://images-na.ssl-images-amazon.com/images...  \n",
       "8  https://images-na.ssl-images-amazon.com/images...  \n",
       "9  https://images-na.ssl-images-amazon.com/images...  "
      ]
     },
     "execution_count": 427,
     "metadata": {},
     "output_type": "execute_result"
    }
   ],
   "source": [
    "df.head(10)"
   ]
  },
  {
   "cell_type": "code",
   "execution_count": 428,
   "metadata": {},
   "outputs": [],
   "source": [
    "df.to_excel('grocery.xlsx')"
   ]
  },
  {
   "cell_type": "code",
   "execution_count": 7,
   "metadata": {},
   "outputs": [
    {
     "data": {
      "text/plain": [
       "['http://www.amazon.in/gcx/-/gfhz/events/?ref=waldo_cxbg_festive_gifts&categoryId=festive-gifts&pinnedAsins=B00O4DJ67W?',\n",
       " 'http://www.amazon.in/gcx/-/gfhz/events/?ref=waldo_cxbg_festive_gifts&categoryId=festive-gifts&pinnedAsins=B00B8EAYJ4?',\n",
       " 'http://www.amazon.in/gcx/-/gfhz/events/?ref=waldo_cxbg_festive_gifts&categoryId=festive-gifts&pinnedAsins=B0183NW5H6?',\n",
       " 'http://www.amazon.in/Mad-Max-CreationTM-Digital-Children/dp/B08JS8BSYV/ref=sr_1_8?dchild=1&keywords=watches&qid=1606463130&sr=8-8?',\n",
       " 'http://www.amazon.in/Realme-Watch-Black-Strap-Fashion/dp/B089NZG3Z3/ref=sr_1_9?dchild=1&keywords=watches&qid=1606463130&sr=8-9?',\n",
       " 'http://www.amazon.in/Acnos-Stylist-Analog-Watch-Combo/dp/B07TY76N4F/ref=ice_ac_b_dpb?dchild=1&keywords=watches&qid=1606463130&sr=8-10?',\n",
       " 'http://www.amazon.in/gcx/-/gfhz/events/?ref=waldo_cxbg_festive_gifts&categoryId=festive-gifts&pinnedAsins=B07KVZD6XM?',\n",
       " 'http://www.amazon.in/gcx/-/gfhz/events/?ref=waldo_cxbg_festive_gifts&categoryId=festive-gifts&pinnedAsins=B00BEU5CTE?',\n",
       " 'http://www.amazon.in/Timewear-Military-Analogue-Digital-Black/dp/B07L3351J4/ref=sr_1_13_mod_primary_lightning_deal?dchild=1&keywords=watches&qid=1606463130&sbo=Tc8eqSFhUl4VwMzbE4fw%2Fw%3D%3D&smid=A2IMXMX2I0MD9T&sr=8-13?',\n",
       " 'http://www.amazon.in/gcx/-/gfhz/events/?ref=waldo_cxbg_festive_gifts&categoryId=festive-gifts&pinnedAsins=B0846MVS96?',\n",
       " 'http://www.amazon.in/Noise-Colorfit-Pro-Touch-Control/dp/B07YY8LDHZ/ref=sr_1_15?dchild=1&keywords=watches&qid=1606463130&sr=8-15?',\n",
       " 'http://www.amazon.in/SKMEI-Digital-Dial-Watch-1251-Black/dp/B0733GM3CK/ref=sr_1_16?dchild=1&keywords=watches&qid=1606463130&sr=8-16?',\n",
       " 'http://www.amazon.in/Vills-Laurrens-Black-Wrist-VL-1114/dp/B08B3FT6X4/ref=sr_1_17_mod_primary_lightning_deal?dchild=1&keywords=watches&qid=1606463130&sbo=Tc8eqSFhUl4VwMzbE4fw%2Fw%3D%3D&smid=A49W0MQLFO9MY&sr=8-17?',\n",
       " 'http://www.amazon.in/gcx/-/gfhz/events/?ref=waldo_cxbg_festive_gifts&categoryId=festive-gifts&pinnedAsins=B07G77V41Q?',\n",
       " 'http://www.amazon.in/Fossil-Fenmore-Multifunction-Black-BQ2364/dp/B07R4P572S/ref=sr_1_19_mod_primary_lightning_deal?dchild=1&keywords=watches&qid=1606463130&sbo=Tc8eqSFhUl4VwMzbE4fw%2Fw%3D%3D&smid=A2XS4ABRR727IE&sr=8-19?',\n",
       " 'http://www.amazon.in/gcx/-/gfhz/events/?ref=waldo_cxbg_festive_gifts&categoryId=festive-gifts&pinnedAsins=B0877MB5HN?',\n",
       " 'http://www.amazon.in/Nautica-Cruise-Flags-NAPNSI802-Silicone/dp/B07ZPJJ9CZ/ref=sxin_25_slsr_d_i_fsnatbk_fa?cv_ct_cx=watches&dchild=1&keywords=watches&pd_rd_i=B07ZPJJ9CZ&pd_rd_r=23947c1a-27e9-4b63-bb85-c659407019a2&pd_rd_w=yvKkg&pd_rd_wg=ECXPZ&pf_rd_p=811dec81-9658-476b-abd5-645828a9a3d5&pf_rd_r=JP3Z5CBVT6MZ263AB6C2&psc=1&qid=1606463130&sr=1-1-d431f461-0b49-4ebc-b80c-435d7844ef93?',\n",
       " 'http://www.amazon.in/Nautica-Cruise-Flags-NAPNSI802-Silicone/dp/B07ZPJJ9CZ/ref=sxin_25_slsr_d_i_fsnatbk_fa?cv_ct_cx=watches&dchild=1&keywords=watches&pd_rd_i=B07ZPJJ9CZ&pd_rd_r=23947c1a-27e9-4b63-bb85-c659407019a2&pd_rd_w=yvKkg&pd_rd_wg=ECXPZ&pf_rd_p=811dec81-9658-476b-abd5-645828a9a3d5&pf_rd_r=JP3Z5CBVT6MZ263AB6C2&psc=1&qid=1606463130&sr=1-1-d431f461-0b49-4ebc-b80c-435d7844ef93?',\n",
       " 'http://www.amazon.in/Diesel-Analog-Grey-Dial-Watch-DZ4528/dp/B0846PMVG8/ref=sxin_25_slsr_d_i_fsnatbk_fa?cv_ct_cx=watches&dchild=1&keywords=watches&pd_rd_i=B0846PMVG8&pd_rd_r=23947c1a-27e9-4b63-bb85-c659407019a2&pd_rd_w=yvKkg&pd_rd_wg=ECXPZ&pf_rd_p=811dec81-9658-476b-abd5-645828a9a3d5&pf_rd_r=JP3Z5CBVT6MZ263AB6C2&psc=1&qid=1606463130&sr=1-2-d431f461-0b49-4ebc-b80c-435d7844ef93?',\n",
       " 'http://www.amazon.in/French-Connection-Analog-Black-Watch-FC153B/dp/B08JM46PRW/ref=sxin_25_slsr_d_i_fsnatbk_fa?cv_ct_cx=watches&dchild=1&keywords=watches&pd_rd_i=B08JM46PRW&pd_rd_r=23947c1a-27e9-4b63-bb85-c659407019a2&pd_rd_w=yvKkg&pd_rd_wg=ECXPZ&pf_rd_p=811dec81-9658-476b-abd5-645828a9a3d5&pf_rd_r=JP3Z5CBVT6MZ263AB6C2&psc=1&qid=1606463130&sr=1-3-d431f461-0b49-4ebc-b80c-435d7844ef93?',\n",
       " 'http://www.amazon.in/Casio-Analog-Blue-Watch-MTP-1374L-2AVDF-A1747/dp/B0827TB7NF/ref=sxin_25_slsr_d_i_fsnatbk_fa?cv_ct_cx=watches&dchild=1&keywords=watches&pd_rd_i=B0827TB7NF&pd_rd_r=23947c1a-27e9-4b63-bb85-c659407019a2&pd_rd_w=yvKkg&pd_rd_wg=ECXPZ&pf_rd_p=811dec81-9658-476b-abd5-645828a9a3d5&pf_rd_r=JP3Z5CBVT6MZ263AB6C2&psc=1&qid=1606463130&sr=1-4-d431f461-0b49-4ebc-b80c-435d7844ef93?',\n",
       " 'http://www.amazon.in/Fossil-Analog-Blue-Dial-Watch-FS5662/dp/B07WQC1DCG/ref=sxin_25_slsr_d_i_fsnatbk_fa?cv_ct_cx=watches&dchild=1&keywords=watches&pd_rd_i=B07WQC1DCG&pd_rd_r=23947c1a-27e9-4b63-bb85-c659407019a2&pd_rd_w=yvKkg&pd_rd_wg=ECXPZ&pf_rd_p=811dec81-9658-476b-abd5-645828a9a3d5&pf_rd_r=JP3Z5CBVT6MZ263AB6C2&psc=1&qid=1606463130&sr=1-5-d431f461-0b49-4ebc-b80c-435d7844ef93?',\n",
       " 'http://www.amazon.in/Casio-Digital-Unisexs-Watch-B640WB-1ADF-D180/dp/B07956366T/ref=sxin_25_slsr_d_i_fsnatbk_fa?cv_ct_cx=watches&dchild=1&keywords=watches&pd_rd_i=B07956366T&pd_rd_r=23947c1a-27e9-4b63-bb85-c659407019a2&pd_rd_w=yvKkg&pd_rd_wg=ECXPZ&pf_rd_p=811dec81-9658-476b-abd5-645828a9a3d5&pf_rd_r=JP3Z5CBVT6MZ263AB6C2&psc=1&qid=1606463130&sr=1-6-d431f461-0b49-4ebc-b80c-435d7844ef93?',\n",
       " 'http://www.amazon.in/Giordano-Analog-Black-Dial-Watch-C1153-04/dp/B07MGVFQPK/ref=sxin_25_slsr_d_i_fsnatbk_fa?cv_ct_cx=watches&dchild=1&keywords=watches&pd_rd_i=B07MGVFQPK&pd_rd_r=23947c1a-27e9-4b63-bb85-c659407019a2&pd_rd_w=yvKkg&pd_rd_wg=ECXPZ&pf_rd_p=811dec81-9658-476b-abd5-645828a9a3d5&pf_rd_r=JP3Z5CBVT6MZ263AB6C2&psc=1&qid=1606463130&sr=1-7-d431f461-0b49-4ebc-b80c-435d7844ef93?',\n",
       " 'http://www.amazon.in/Fossil-Bronson-Analog-Black-Watch-FS5712/dp/B086D8FJGG/ref=sxin_25_slsr_d_i_fsnatbk_fa?cv_ct_cx=watches&dchild=1&keywords=watches&pd_rd_i=B086D8FJGG&pd_rd_r=23947c1a-27e9-4b63-bb85-c659407019a2&pd_rd_w=yvKkg&pd_rd_wg=ECXPZ&pf_rd_p=811dec81-9658-476b-abd5-645828a9a3d5&pf_rd_r=JP3Z5CBVT6MZ263AB6C2&psc=1&qid=1606463130&sr=1-8-d431f461-0b49-4ebc-b80c-435d7844ef93?',\n",
       " 'http://www.amazon.in/gcx/-/gfhz/events/?ref=waldo_cxbg_festive_gifts&categoryId=festive-gifts&pinnedAsins=B00KNK7QV8?',\n",
       " 'http://www.amazon.in/gcx/-/gfhz/events/?ref=waldo_cxbg_festive_gifts&categoryId=festive-gifts&pinnedAsins=B07CHTGBKX?',\n",
       " 'http://www.amazon.in/gcx/-/gfhz/events/?ref=waldo_cxbg_festive_gifts&categoryId=festive-gifts&pinnedAsins=B00HRB8AX4?',\n",
       " 'http://www.amazon.in/gcx/-/gfhz/events/?ref=waldo_cxbg_festive_gifts&categoryId=festive-gifts&pinnedAsins=B078Y2PJL4?',\n",
       " 'http://www.amazon.in/Mi-Smart-Band-Waterproof-up/dp/B07WLL998K/ref=sr_1_26?dchild=1&keywords=watches&qid=1606463130&sr=8-26?',\n",
       " 'http://www.amazon.in/SHOPTOSHOP-Activity-Waterproof-Functions-Touchscreen/dp/B08DVB2SMZ/ref=sr_1_27?dchild=1&keywords=watches&qid=1606463130&sr=8-27?',\n",
       " 'http://www.amazon.in/gcx/-/gfhz/events/?ref=waldo_cxbg_festive_gifts&categoryId=festive-gifts&pinnedAsins=B00DUCIK7U?',\n",
       " 'http://www.amazon.in/gcx/-/gfhz/events/?ref=waldo_cxbg_festive_gifts&categoryId=festive-gifts&pinnedAsins=B07H3489LV?',\n",
       " 'http://www.amazon.in/Noise-ColorFit-NAV-Resolution-Display/dp/B08D1GV7V2/ref=sr_1_30?dchild=1&keywords=watches&qid=1606463130&sr=8-30?',\n",
       " 'http://www.amazon.in/Watch-Gene-Stone/dp/0810930935/ref=sr_1_31?dchild=1&keywords=watches&qid=1606463130&sr=8-31?',\n",
       " 'http://www.amazon.in/Noise-NoiseFit-Evolve-Control-Display/dp/B07ZT5S7VL/ref=sr_1_32?dchild=1&keywords=watches&qid=1606463130&sr=8-32?',\n",
       " 'http://www.amazon.in/selloria-Shockproof-Waterproof-Digital-Sports/dp/B08J3WT4MJ/ref=sr_1_33?dchild=1&keywords=watches&qid=1606463130&sr=8-33?',\n",
       " 'http://www.amazon.in/gcx/-/gfhz/events/?ref=waldo_cxbg_festive_gifts&categoryId=festive-gifts&pinnedAsins=B07DQN5B3G?',\n",
       " 'http://www.amazon.in/SKMEI-Digital-Dial-Watch-1257-Black/dp/B07B6ML1VJ/ref=sr_1_35?dchild=1&keywords=watches&qid=1606463130&sr=8-35?',\n",
       " 'http://www.amazon.in/HUG-PUPPY-Bluetooth-Fitness-Activity/dp/B08FGZ7STS/ref=sr_1_36?dchild=1&keywords=watches&qid=1606463130&sr=8-36?',\n",
       " 'http://www.amazon.in/gcx/-/gfhz/events/?ref=waldo_cxbg_festive_gifts&categoryId=festive-gifts&pinnedAsins=B07TY75QP6?',\n",
       " 'http://www.amazon.in/Watch-Latoya-Townsend-ebook/dp/B08JCKKQ5X/ref=sr_1_38?dchild=1&keywords=watches&qid=1606463130&sr=8-38?',\n",
       " 'http://www.amazon.in/SKMEI-Analog-Digital-Black-Watch-AD1155-BK/dp/B01N0WVC16/ref=sr_1_39?dchild=1&keywords=watches&qid=1606463130&sr=8-39?',\n",
       " 'http://www.amazon.in/Electroplus-A1-Smartwatch-Compatible-Smartphone/dp/B08H4NJVPQ/ref=sr_1_40?dchild=1&keywords=watches&qid=1606463130&sr=8-40?',\n",
       " 'http://www.amazon.in/gcx/-/gfhz/events/?ref=waldo_cxbg_festive_gifts&categoryId=festive-gifts&pinnedAsins=B07DMQ2SWB?',\n",
       " 'http://www.amazon.in/Noise-Colorfit-Pro-Control-Cloudbased/dp/B08HV25BBQ/ref=sr_1_42?dchild=1&keywords=watches&qid=1606463130&sr=8-42?',\n",
       " 'http://www.amazon.in/gcx/-/gfhz/events/?ref=waldo_cxbg_festive_gifts&categoryId=festive-gifts&pinnedAsins=B07BS3LCP1?',\n",
       " 'http://www.amazon.in/gcx/-/gfhz/events/?ref=waldo_cxbg_festive_gifts&categoryId=festive-gifts&pinnedAsins=B07X1XMDB2?',\n",
       " 'http://www.amazon.in/gcx/-/gfhz/events/?ref=waldo_cxbg_festive_gifts&categoryId=festive-gifts&pinnedAsins=B07DN93B9R?',\n",
       " 'http://www.amazon.in/gcx/-/gfhz/events/?ref=waldo_cxbg_festive_gifts&categoryId=festive-gifts&pinnedAsins=B003R7JYFU?',\n",
       " 'http://www.amazon.in/Skmei-Digital-Sports-Watch-SKMEI/dp/B0851ZMBYV/ref=sr_1_47?dchild=1&keywords=watches&qid=1606463130&sr=8-47?',\n",
       " 'http://www.amazon.in/gcx/-/gfhz/events/?ref=waldo_cxbg_festive_gifts&categoryId=festive-gifts&pinnedAsins=B07FCPL5NX?',\n",
       " 'http://www.amazon.in/Smart-Bluetooth-Monitor-Samrtwatch-Android/dp/B08JKK1SXL/ref=sr_1_49?dchild=1&keywords=watches&qid=1606463130&sr=8-49?',\n",
       " 'http://www.amazon.in/Fastrack-Analog-Womens-6150SM04-NK6150SM04/dp/B01GDWNV68/ref=sr_1_50?dchild=1&keywords=watches&qid=1606463130&sr=8-50?',\n",
       " 'http://www.amazon.in/LimeStone-Functioning-Silver-Color-Quartz/dp/B08G4Q2LZM/ref=sr_1_51_mod_primary_lightning_deal?dchild=1&keywords=watches&qid=1606463130&sbo=Tc8eqSFhUl4VwMzbE4fw%2Fw%3D%3D&smid=A21QMAD55OZHHJ&sr=8-51?',\n",
       " 'http://www.amazon.in/Micacchi-Analog-Multicolor-Calendar-Watches/dp/B08HS643RF/ref=sr_1_52?dchild=1&keywords=watches&qid=1606463130&sr=8-52?',\n",
       " 'http://www.amazon.in/gcx/-/gfhz/events/?ref=waldo_cxbg_festive_gifts&categoryId=festive-gifts&pinnedAsins=B075FY4RWK?',\n",
       " 'http://www.amazon.in/gcx/-/gfhz/events/?ref=waldo_cxbg_festive_gifts&categoryId=festive-gifts&pinnedAsins=B07GL4RYMC?',\n",
       " 'http://www.amazon.in/HUG-PUPPY-Bluetooth-Activity-Waterproof/dp/B08FGYNNBL/ref=sr_1_55?dchild=1&keywords=watches&qid=1606463130&sr=8-55?',\n",
       " 'http://www.amazon.in/Watch-Thoroughly-Revised-Set-Books/dp/B0866DY1W9/ref=sr_1_56?dchild=1&keywords=watches&qid=1606463130&sr=8-56?',\n",
       " 'http://www.amazon.in/gcx/-/gfhz/events/?ref=waldo_cxbg_festive_gifts&categoryId=festive-gifts&pinnedAsins=B004C5ZVLM?',\n",
       " 'http://www.amazon.in/gcx/-/gfhz/events/?ref=waldo_cxbg_festive_gifts&categoryId=festive-gifts&pinnedAsins=B001J1772I?',\n",
       " 'http://www.amazon.in/gcx/-/gfhz/events/?ref=waldo_cxbg_festive_gifts&categoryId=festive-gifts&pinnedAsins=B0163GGJSQ?']"
      ]
     },
     "execution_count": 7,
     "metadata": {},
     "output_type": "execute_result"
    }
   ],
   "source": [
    "final"
   ]
  },
  {
   "cell_type": "code",
   "execution_count": 46,
   "metadata": {},
   "outputs": [
    {
     "data": {
      "text/plain": [
       "['http://www.amazon.in/Reebok-Gravel-Running-Shoes-10-CN8009/dp/B07FBM5SVX/ref=sr_1_1?crid=2SJV2MWA9L6HA&dchild=1&keywords=reebok+shoes&qid=1606407080&sprefix=reebok%2Caps%2C341&sr=8-1?',\n",
       " 'http://www.amazon.in/Reebok-Collegiate-Running-Shoes-9-DV7634/dp/B07N9JM2L9/ref=sr_1_2?crid=2SJV2MWA9L6HA&dchild=1&keywords=reebok+shoes&qid=1606407080&sprefix=reebok%2Caps%2C341&sr=8-2?',\n",
       " 'http://www.amazon.in/Reebok-Tread-Running-Shoes-8-FW1781/dp/B082QH44NT/ref=sr_1_3?crid=2SJV2MWA9L6HA&dchild=1&keywords=reebok+shoes&qid=1606407080&sprefix=reebok%2Caps%2C341&sr=8-3?',\n",
       " 'http://www.amazon.in/Reebok-Multicolor-Running-Shoes-9-CN6027/dp/B07D95VSK8/ref=sr_1_4?crid=2SJV2MWA9L6HA&dchild=1&keywords=reebok+shoes&qid=1606407080&sprefix=reebok%2Caps%2C341&sr=8-4?',\n",
       " 'http://www.amazon.in/Reebok-Emergo-Running-Shoes-8-FV8864/dp/B082QH3PW9/ref=sr_1_5?crid=2SJV2MWA9L6HA&dchild=1&keywords=reebok+shoes&qid=1606407080&sprefix=reebok%2Caps%2C341&sr=8-5?',\n",
       " 'http://www.amazon.in/Reebok-Hernvy-Training-Shoes-9-EG0240/dp/B07YZLX8SM/ref=sr_1_6?crid=2SJV2MWA9L6HA&dchild=1&keywords=reebok+shoes&qid=1606407080&sprefix=reebok%2Caps%2C341&sr=8-6?',\n",
       " 'http://www.amazon.in/Reebok-Collegiate-Training-Shoes-9-EF6335/dp/B082B4D14T/ref=sr_1_7?crid=2SJV2MWA9L6HA&dchild=1&keywords=reebok+shoes&qid=1606407080&sprefix=reebok%2Caps%2C341&sr=8-7?',\n",
       " 'http://www.amazon.in/Reebok-Revolution-Running-Shoes-8-FW1797/dp/B082QHJ4PW/ref=sr_1_8?crid=2SJV2MWA9L6HA&dchild=1&keywords=reebok+shoes&qid=1606407080&sprefix=reebok%2Caps%2C341&sr=8-8?',\n",
       " 'http://www.amazon.in/Reebok-Guide-Stride-Shoes-7-FV9559/dp/B082QGZSK7/ref=sr_1_9?crid=2SJV2MWA9L6HA&dchild=1&keywords=reebok+shoes&qid=1606407080&sprefix=reebok%2Caps%2C341&sr=8-9?',\n",
       " 'http://www.amazon.in/Reebok-Techque-Leather-Shoes-9-EF7811/dp/B082QHTD1K/ref=sr_1_10?crid=2SJV2MWA9L6HA&dchild=1&keywords=reebok+shoes&qid=1606407080&sprefix=reebok%2Caps%2C341&sr=8-10?',\n",
       " 'http://www.amazon.in/Reebok-Essential-Running-Shoes-9-FU6994/dp/B07YZTM8PW/ref=sr_1_11?crid=2SJV2MWA9L6HA&dchild=1&keywords=reebok+shoes&qid=1606407080&sprefix=reebok%2Caps%2C341&sr=8-11?',\n",
       " 'http://www.amazon.in/Reebok-Runner-Black-Running-FV8721/dp/B0861YZZMF/ref=sr_1_12?crid=2SJV2MWA9L6HA&dchild=1&keywords=reebok+shoes&qid=1606407080&sprefix=reebok%2Caps%2C341&sr=8-12?',\n",
       " 'http://www.amazon.in/Reebok-Complete-Running-Shoes-9-FW0462/dp/B082QHZ5QX/ref=sr_1_13?crid=2SJV2MWA9L6HA&dchild=1&keywords=reebok+shoes&qid=1606407080&sprefix=reebok%2Caps%2C341&sr=8-13?',\n",
       " 'http://www.amazon.in/Reebok-Energy-Awesome-Running-FW1936/dp/B082QJCLRC/ref=sr_1_14?crid=2SJV2MWA9L6HA&dchild=1&keywords=reebok+shoes&qid=1606407080&sprefix=reebok%2Caps%2C341&sr=8-14?',\n",
       " 'http://www.amazon.in/Reebok-Fusion-Running-Shoes-10-BS7266/dp/B07CT2T3CD/ref=sr_1_15?crid=2SJV2MWA9L6HA&dchild=1&keywords=reebok+shoes&qid=1606407080&sprefix=reebok%2Caps%2C341&sr=8-15?',\n",
       " 'http://www.amazon.in/Reebok-Robust-Running-Shoes-7-EG4432/dp/B081Y268KS/ref=sr_1_16?crid=2SJV2MWA9L6HA&dchild=1&keywords=reebok+shoes&qid=1606407080&sprefix=reebok%2Caps%2C341&sr=8-16?',\n",
       " 'http://www.amazon.in/Reebok-School-White-Flat-Running-EW5149/dp/B08CBF5VXP/ref=sr_1_21?crid=2SJV2MWA9L6HA&dchild=1&keywords=reebok+shoes&qid=1606407080&sprefix=reebok%2Caps%2C341&sr=8-21?',\n",
       " 'http://www.amazon.in/Reebok-Breeze-Running-Shoes-7-EG2976/dp/B07Z4BXFM2/ref=sr_1_22?crid=2SJV2MWA9L6HA&dchild=1&keywords=reebok+shoes&qid=1606407080&sprefix=reebok%2Caps%2C341&sr=8-22?',\n",
       " 'http://www.amazon.in/Reebok-Sublite-METGRY-Running-FU8762/dp/B08CBFSMDL/ref=sr_1_23?crid=2SJV2MWA9L6HA&dchild=1&keywords=reebok+shoes&qid=1606407080&sprefix=reebok%2Caps%2C341&sr=8-23?',\n",
       " 'http://www.amazon.in/Reebok-Identity-Running-Shoes-9-FV9816/dp/B082QHWYG7/ref=sr_1_24?crid=2SJV2MWA9L6HA&dchild=1&keywords=reebok+shoes&qid=1606407080&sprefix=reebok%2Caps%2C341&sr=8-24?',\n",
       " 'http://www.amazon.in/Reebok-Runner-Running-Shoes-8-FV8718/dp/B082QH5FTH/ref=sr_1_25?crid=2SJV2MWA9L6HA&dchild=1&keywords=reebok+shoes&qid=1606407080&sprefix=reebok%2Caps%2C341&sr=8-25?',\n",
       " 'http://www.amazon.in/Reebok-Awesome-Electric-Shoes-8-FW0337/dp/B082QJ7G5J/ref=sr_1_26?crid=2SJV2MWA9L6HA&dchild=1&keywords=reebok+shoes&qid=1606407080&sprefix=reebok%2Caps%2C341&sr=8-26?',\n",
       " 'http://www.amazon.in/Reebok-Genesis-Grey-Nacho-Running-EW5099/dp/B08CBCTMKW/ref=sr_1_27?crid=2SJV2MWA9L6HA&dchild=1&keywords=reebok+shoes&qid=1606407080&sprefix=reebok%2Caps%2C341&sr=8-27?',\n",
       " 'http://www.amazon.in/Reebok-Runner-Running-Shoes-8-DV8424/dp/B07N9J6K5L/ref=sr_1_28?crid=2SJV2MWA9L6HA&dchild=1&keywords=reebok+shoes&qid=1606407080&sprefix=reebok%2Caps%2C341&sr=8-28?',\n",
       " 'http://www.amazon.in/Reebok-Runner-Running-Shoes-10-FW0319/dp/B082QJF1JN/ref=sr_1_29?crid=2SJV2MWA9L6HA&dchild=1&keywords=reebok+shoes&qid=1606407080&sprefix=reebok%2Caps%2C341&sr=8-29?',\n",
       " 'http://www.amazon.in/Reebok-Xtreme-ASHGRY-REDRUS-FV9932/dp/B0861ZCYN5/ref=sr_1_30?crid=2SJV2MWA9L6HA&dchild=1&keywords=reebok+shoes&qid=1606407080&sprefix=reebok%2Caps%2C341&sr=8-30?',\n",
       " 'http://www.amazon.in/Reebok-Flexagon-Seaport-Training-EF5164/dp/B082B4M3TB/ref=sr_1_31?crid=2SJV2MWA9L6HA&dchild=1&keywords=reebok+shoes&qid=1606407080&sprefix=reebok%2Caps%2C341&sr=8-31?',\n",
       " 'http://www.amazon.in/Reebok-Inbound-Running-Shoe-7-EW5244/dp/B08CBDGSJN/ref=sr_1_32?crid=2SJV2MWA9L6HA&dchild=1&keywords=reebok+shoes&qid=1606407080&sprefix=reebok%2Caps%2C341&sr=8-32?',\n",
       " 'http://www.amazon.in/Reebok-Multicolor-Running-Shoes-10-CN6026/dp/B07D9B39J6/ref=sr_1_33?crid=2SJV2MWA9L6HA&dchild=1&keywords=reebok+shoes&qid=1606407080&sprefix=reebok%2Caps%2C341&sr=8-33?',\n",
       " 'http://www.amazon.in/Reebok-Electric-Running-Shoes-8-FW1589/dp/B082QH9PX8/ref=sr_1_34?crid=2SJV2MWA9L6HA&dchild=1&keywords=reebok+shoes&qid=1606407080&sprefix=reebok%2Caps%2C341&sr=8-34?',\n",
       " 'http://www.amazon.in/Reebok-Runner-Silver-Running-EF3162/dp/B082QHZFPY/ref=sr_1_35?crid=2SJV2MWA9L6HA&dchild=1&keywords=reebok+shoes&qid=1606407080&sprefix=reebok%2Caps%2C341&sr=8-35?',\n",
       " 'http://www.amazon.in/Reebok-Enhanced-Awesome-Running-DV8016/dp/B07N9JLTJJ/ref=sr_1_36?crid=2SJV2MWA9L6HA&dchild=1&keywords=reebok+shoes&qid=1606407080&sprefix=reebok%2Caps%2C341&sr=8-36?',\n",
       " 'http://www.amazon.in/Reebok-Runner-Indigo-RED-Running-EW5092/dp/B08CBD3V1X/ref=sr_1_37?crid=2SJV2MWA9L6HA&dchild=1&keywords=reebok+shoes&qid=1606407080&sprefix=reebok%2Caps%2C341&sr=8-37?',\n",
       " 'http://www.amazon.in/Reebok-Future-Stride-Shoes-9-EG0763/dp/B07Z4BLSZB/ref=sr_1_38?crid=2SJV2MWA9L6HA&dchild=1&keywords=reebok+shoes&qid=1606407080&sprefix=reebok%2Caps%2C341&sr=8-38?',\n",
       " 'http://www.amazon.in/Reebok-Runner-Running-Shoes-FW1739/dp/B082QJ9KDV/ref=sr_1_39?crid=2SJV2MWA9L6HA&dchild=1&keywords=reebok+shoes&qid=1606407080&sprefix=reebok%2Caps%2C341&sr=8-39?',\n",
       " 'http://www.amazon.in/Reebok-Sterling-Training-Shoes-9-FW2909/dp/B082QHKHQK/ref=sr_1_40?crid=2SJV2MWA9L6HA&dchild=1&keywords=reebok+shoes&qid=1606407080&sprefix=reebok%2Caps%2C341&sr=8-40?',\n",
       " 'http://www.amazon.in/Reebok-Stride-Running-Shoe-8-EW5265/dp/B08FZS9THZ/ref=sr_1_41?crid=2SJV2MWA9L6HA&dchild=1&keywords=reebok+shoes&qid=1606407080&sprefix=reebok%2Caps%2C341&sr=8-41?',\n",
       " 'http://www.amazon.in/Reebok-Flexagon-Training-Shoes-6-EH3601/dp/B082B614D8/ref=sr_1_42?crid=2SJV2MWA9L6HA&dchild=1&keywords=reebok+shoes&qid=1606407080&sprefix=reebok%2Caps%2C341&sr=8-42?',\n",
       " 'http://www.amazon.in/Reebok-Collegiate-Awesome-Running-DV7959/dp/B07R1QDMNQ/ref=sr_1_43?crid=2SJV2MWA9L6HA&dchild=1&keywords=reebok+shoes&qid=1606407080&sprefix=reebok%2Caps%2C341&sr=8-43?',\n",
       " 'http://www.amazon.in/Reebok-Ultra-Running-Shoes-9-CN4274/dp/B07B2X76TY/ref=sr_1_44?crid=2SJV2MWA9L6HA&dchild=1&keywords=reebok+shoes&qid=1606407080&sprefix=reebok%2Caps%2C341&sr=8-44?',\n",
       " 'http://www.amazon.in/Reebok-Energy-Running-Shoes-8-EF9454/dp/B07Z44YPVT/ref=sr_1_45?crid=2SJV2MWA9L6HA&dchild=1&keywords=reebok+shoes&qid=1606407080&sprefix=reebok%2Caps%2C341&sr=8-45?',\n",
       " 'http://www.amazon.in/Reebok-Pulse-Running-Shoes-8-BS9190/dp/B078JKXTNC/ref=sr_1_46?crid=2SJV2MWA9L6HA&dchild=1&keywords=reebok+shoes&qid=1606407080&sprefix=reebok%2Caps%2C341&sr=8-46?',\n",
       " 'http://www.amazon.in/Reebok-Awesome-Heritage-Running-FW0015/dp/B082QHPV5Z/ref=sr_1_47?crid=2SJV2MWA9L6HA&dchild=1&keywords=reebok+shoes&qid=1606407080&sprefix=reebok%2Caps%2C341&sr=8-47?',\n",
       " 'http://www.amazon.in/Reebok-Complete-Collegiate-Shoes-10-FW0375/dp/B082QHSJ93/ref=sr_1_48?crid=2SJV2MWA9L6HA&dchild=1&keywords=reebok+shoes&qid=1606407080&sprefix=reebok%2Caps%2C341&sr=8-48?',\n",
       " 'http://www.amazon.in/Reebok-Esoterra-Running-Shoes-9-DV8065/dp/B082JD83ZR/ref=sr_1_49?crid=2SJV2MWA9L6HA&dchild=1&keywords=reebok+shoes&qid=1606407080&sprefix=reebok%2Caps%2C341&sr=8-49?',\n",
       " 'http://www.amazon.in/Reebok-Awesome-Running-Shoes-10-FW1132/dp/B082QGPWSM/ref=sr_1_50?crid=2SJV2MWA9L6HA&dchild=1&keywords=reebok+shoes&qid=1606407080&sprefix=reebok%2Caps%2C341&sr=8-50?',\n",
       " 'http://www.amazon.in/Reebok-Cypress-Running-Shoes-7-FW0366/dp/B082QHXJ56/ref=sr_1_51?crid=2SJV2MWA9L6HA&dchild=1&keywords=reebok+shoes&qid=1606407080&sprefix=reebok%2Caps%2C341&sr=8-51?',\n",
       " 'http://www.amazon.in/Reebok-Runner-Running-Shoes-8-CN7962/dp/B07FBP9WQJ/ref=sr_1_52?crid=2SJV2MWA9L6HA&dchild=1&keywords=reebok+shoes&qid=1606407080&sprefix=reebok%2Caps%2C341&sr=8-52?']"
      ]
     },
     "execution_count": 46,
     "metadata": {},
     "output_type": "execute_result"
    }
   ],
   "source": [
    "final"
   ]
  },
  {
   "cell_type": "code",
   "execution_count": 397,
   "metadata": {},
   "outputs": [
    {
     "data": {
      "text/plain": [
       "[]"
      ]
     },
     "execution_count": 397,
     "metadata": {},
     "output_type": "execute_result"
    }
   ],
   "source": [
    "d['details'].pop(-1)"
   ]
  },
  {
   "cell_type": "code",
   "execution_count": null,
   "metadata": {},
   "outputs": [],
   "source": []
  }
 ],
 "metadata": {
  "kernelspec": {
   "display_name": "Python 3",
   "language": "python",
   "name": "python3"
  },
  "language_info": {
   "codemirror_mode": {
    "name": "ipython",
    "version": 3
   },
   "file_extension": ".py",
   "mimetype": "text/x-python",
   "name": "python",
   "nbconvert_exporter": "python",
   "pygments_lexer": "ipython3",
   "version": "3.7.4"
  }
 },
 "nbformat": 4,
 "nbformat_minor": 2
}
