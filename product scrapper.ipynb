{
 "cells": [
  {
   "cell_type": "code",
   "execution_count": 1,
   "metadata": {},
   "outputs": [],
   "source": [
    "from bs4 import BeautifulSoup\n",
    "import pprint as p\n",
    "import urllib\n",
    "import requests\n",
    "from selenium import webdriver\n",
    "import time\n",
    "import re"
   ]
  },
  {
   "cell_type": "code",
   "execution_count": 2,
   "metadata": {},
   "outputs": [],
   "source": [
    "url = 'https://www.amazon.in/Runner-Black-Metallic-Silver-Running-19225725/dp/B07S7QGVKT/ref=sr_1_2_sspa?dchild=1&keywords=puma&qid=1606378835&sr=8-2-spons&psc=1&spLa=ZW5jcnlwdGVkUXVhbGlmaWVyPUEzQ0Y5RTlIS1FIODBSJmVuY3J5cHRlZElkPUEwMTU3NDY3M0lCWjJZSlJHQVZWNCZlbmNyeXB0ZWRBZElkPUEwODk2MDY4SDJQQ1RRNEpHMURRJndpZGdldE5hbWU9c3BfYXRmJmFjdGlvbj1jbGlja1JlZGlyZWN0JmRvTm90TG9nQ2xpY2s9dHJ1ZQ=='\n",
    "var = requests.get(url)"
   ]
  },
  {
   "cell_type": "code",
   "execution_count": 3,
   "metadata": {},
   "outputs": [],
   "source": [
    "driver = webdriver.Chrome('chromedriver.exe')\n",
    "driver.get(url)"
   ]
  },
  {
   "cell_type": "code",
   "execution_count": 100,
   "metadata": {},
   "outputs": [
    {
     "data": {
      "text/plain": [
       "\"Puma Men's Flyer Runner Road Running Shoe\""
      ]
     },
     "execution_count": 100,
     "metadata": {},
     "output_type": "execute_result"
    }
   ],
   "source": [
    "# varies for each category\n",
    "title = driver.find_element_by_xpath('/html/body/div[2]/div[2]/div[4]/div[1]/div[2]/div[2]/div/div/div[1]/div[1]/div[2]/div[1]/div/h1/span')\n",
    "title = title.get_attribute('innerHTML')\n",
    "title = re.sub('\\n','',title)\n",
    "title"
   ]
  },
  {
   "cell_type": "code",
   "execution_count": 101,
   "metadata": {},
   "outputs": [
    {
     "data": {
      "text/plain": [
       "' ₹3,999.00'"
      ]
     },
     "execution_count": 101,
     "metadata": {},
     "output_type": "execute_result"
    }
   ],
   "source": [
    "price = driver.find_element_by_xpath('/html/body/div[2]/div[2]/div[4]/div[1]/div[2]/div[2]/div/div/div[1]/div[2]/div[1]/div/table/tbody/tr[1]/td[2]/span[1]')\n",
    "price = price.get_attribute('innerHTML')\n",
    "price = re.sub('&nbsp;','',price)\n",
    "price"
   ]
  },
  {
   "cell_type": "code",
   "execution_count": 4,
   "metadata": {},
   "outputs": [
    {
     "name": "stdout",
     "output_type": "stream",
     "text": [
      "Sole: Rubber\n"
     ]
    }
   ],
   "source": [
    "desc = driver.find_element_by_xpath('/html/body/div[2]/div[2]/div[4]/div[1]/div[2]/div[2]/div/div/div[1]/div[26]/div/ul')\n",
    "desc = desc.get_attribute('innerHTML')\n",
    "soup = BeautifulSoup(desc)\n",
    "for i in soup.find_all('li'):\n",
    "    v = re.sub('\\n','',i.text)\n",
    "    print(v)\n",
    "    break\n",
    "#     for j in i.find('span'):\n",
    "#         print(j)\n",
    "\n",
    "    "
   ]
  },
  {
   "cell_type": "code",
   "execution_count": 116,
   "metadata": {},
   "outputs": [
    {
     "name": "stdout",
     "output_type": "stream",
     "text": [
      "Date First Available:13 February 2020\n",
      "ASIN:B084RX5VXM\n",
      "Item model number:192257\n",
      "Department:Mens\n",
      "Generic Name:Road Running Shoe\n"
     ]
    }
   ],
   "source": [
    "details = driver.find_element_by_xpath('/html/body/div[2]/div[2]/div[4]/div[17]/div/div/div/div[1]/ul')\n",
    "details = details.get_attribute('innerHTML')\n",
    "soup = BeautifulSoup(details)\n",
    "for i in soup.find_all('li'):\n",
    "#     print(i.text)\n",
    "    v = re.sub('\\n','',i.text)\n",
    "    print(v)\n"
   ]
  },
  {
   "cell_type": "code",
   "execution_count": 95,
   "metadata": {},
   "outputs": [
    {
     "data": {
      "text/plain": [
       "'4.5 out of 5'"
      ]
     },
     "execution_count": 95,
     "metadata": {},
     "output_type": "execute_result"
    }
   ],
   "source": [
    "review = driver.find_element_by_xpath('/html/body/div[2]/div[2]/div[4]/div[24]/div/div[1]/div[2]/div[1]/div/div[2]/div/span/span')\n",
    "review = review.get_attribute('innerHTML')\n",
    "review"
   ]
  },
  {
   "cell_type": "code",
   "execution_count": 96,
   "metadata": {},
   "outputs": [
    {
     "data": {
      "text/plain": [
       "'https://images-na.ssl-images-amazon.com/images/I/71Eg5siBOgL._UY500_.jpg'"
      ]
     },
     "execution_count": 96,
     "metadata": {},
     "output_type": "execute_result"
    }
   ],
   "source": [
    "pic = driver.find_element_by_xpath('/html/body/div[2]/div[2]/div[4]/div[1]/div[2]/div[1]/div/div[1]/div/div/div[2]/div[1]/div[1]/ul/li[1]/span/span/div/img')\n",
    "pic = pic.get_attribute('src')\n",
    "pic"
   ]
  },
  {
   "cell_type": "code",
   "execution_count": 117,
   "metadata": {},
   "outputs": [],
   "source": [
    "driver.close()"
   ]
  },
  {
   "cell_type": "code",
   "execution_count": null,
   "metadata": {},
   "outputs": [],
   "source": []
  }
 ],
 "metadata": {
  "kernelspec": {
   "display_name": "Python 3",
   "language": "python",
   "name": "python3"
  },
  "language_info": {
   "codemirror_mode": {
    "name": "ipython",
    "version": 3
   },
   "file_extension": ".py",
   "mimetype": "text/x-python",
   "name": "python",
   "nbconvert_exporter": "python",
   "pygments_lexer": "ipython3",
   "version": "3.7.4"
  }
 },
 "nbformat": 4,
 "nbformat_minor": 2
}
